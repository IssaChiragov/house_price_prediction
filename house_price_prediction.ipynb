{
 "cells": [
  {
   "cell_type": "markdown",
   "id": "GEqQaHzsZ_bA",
   "metadata": {
    "id": "GEqQaHzsZ_bA"
   },
   "source": [
    "# Предсказание стоимости жилья\n",
    "\n",
    "В проекте вам нужно обучить модель линейной регрессии на данных о жилье в Калифорнии в 1990 году. На основе данных нужно предсказать медианную стоимость дома в жилом массиве. Обучите модель и сделайте предсказания на тестовой выборке. Для оценки качества модели используйте метрики RMSE, MAE и R2."
   ]
  },
  {
   "cell_type": "markdown",
   "id": "2a8263e1",
   "metadata": {},
   "source": [
    "**Описание проекта:** предоставлены данных о жилье в Калифорнии в 1990 году. На основе данных нужно предсказать медианную стоимость дома в жилом массиве.\n",
    "\n",
    "**Цель исследования:** Необходимо редсказать медианную стоимость дома в жилом массиве.\n",
    "\n",
    "**Ход исследования:**\n",
    "\n",
    "- Обучение модели на подготовленных данных;\n",
    "- Сделать предсказания на тестовой выборке;\n",
    "- Оценить качество модели, используя RMSE, MAE и R2.\n",
    "\n",
    "**Общий вывод:** резюмирование полуенных результатов, формулировка ключевых выводов и результатов."
   ]
  },
  {
   "cell_type": "code",
   "execution_count": 1,
   "id": "df92e3ec",
   "metadata": {
    "id": "df92e3ec"
   },
   "outputs": [],
   "source": [
    "import pandas as pd \n",
    "import numpy as np\n",
    "import pyspark\n",
    "\n",
    "from pyspark.sql import SparkSession\n",
    "from pyspark.sql.types import *\n",
    "import pyspark.sql.functions as F\n",
    "import seaborn as sns\n",
    "from pyspark.ml.feature import OneHotEncoder \n",
    "from pyspark.ml.feature import StringIndexer, VectorAssembler, StandardScaler\n",
    "from pyspark.ml.regression import LinearRegression\n",
    "from pyspark.ml.evaluation import RegressionEvaluator\n",
    "RANDOM_SEED = 2022"
   ]
  },
  {
   "cell_type": "markdown",
   "id": "53871372",
   "metadata": {
    "id": "53871372"
   },
   "source": [
    "## Подготовка данных"
   ]
  },
  {
   "cell_type": "markdown",
   "id": "9c9b97e5",
   "metadata": {
    "id": "53871372"
   },
   "source": [
    "### Инициализируем локальную Spark-сессию"
   ]
  },
  {
   "cell_type": "code",
   "execution_count": 2,
   "id": "59264d66",
   "metadata": {},
   "outputs": [],
   "source": [
    "spark = SparkSession.builder \\\n",
    "                    .master(\"local\") \\\n",
    "                    .appName(\"EDA California Housing\") \\\n",
    "                    .getOrCreate()"
   ]
  },
  {
   "cell_type": "markdown",
   "id": "c2af46d0",
   "metadata": {
    "id": "53871372"
   },
   "source": [
    "### Прочитаем содержимое файла"
   ]
  },
  {
   "cell_type": "code",
   "execution_count": 3,
   "id": "1a296c1a",
   "metadata": {},
   "outputs": [
    {
     "name": "stderr",
     "output_type": "stream",
     "text": [
      "                                                                                \r"
     ]
    },
    {
     "name": "stdout",
     "output_type": "stream",
     "text": [
      "root\n",
      " |-- longitude: double (nullable = true)\n",
      " |-- latitude: double (nullable = true)\n",
      " |-- housing_median_age: double (nullable = true)\n",
      " |-- total_rooms: double (nullable = true)\n",
      " |-- total_bedrooms: double (nullable = true)\n",
      " |-- population: double (nullable = true)\n",
      " |-- households: double (nullable = true)\n",
      " |-- median_income: double (nullable = true)\n",
      " |-- median_house_value: double (nullable = true)\n",
      " |-- ocean_proximity: string (nullable = true)\n",
      "\n"
     ]
    },
    {
     "name": "stderr",
     "output_type": "stream",
     "text": [
      "                                                                                \r"
     ]
    }
   ],
   "source": [
    "df_housing = spark.read.option('header', 'true').csv('/datasets/housing.csv', inferSchema = True) \n",
    "df_housing.printSchema() "
   ]
  },
  {
   "cell_type": "markdown",
   "id": "675487f8",
   "metadata": {
    "id": "53871372"
   },
   "source": [
    "### Выведем типы данных колонок датасета"
   ]
  },
  {
   "cell_type": "code",
   "execution_count": 4,
   "id": "39193a05",
   "metadata": {},
   "outputs": [
    {
     "name": "stdout",
     "output_type": "stream",
     "text": [
      "               column    type\n",
      "0           longitude  double\n",
      "1            latitude  double\n",
      "2  housing_median_age  double\n",
      "3         total_rooms  double\n",
      "4      total_bedrooms  double\n",
      "5          population  double\n",
      "6          households  double\n",
      "7       median_income  double\n",
      "8  median_house_value  double\n",
      "9     ocean_proximity  string\n"
     ]
    }
   ],
   "source": [
    "print(pd.DataFrame(df_housing.dtypes, columns=['column', 'type']))"
   ]
  },
  {
   "cell_type": "markdown",
   "id": "160b1ead",
   "metadata": {},
   "source": [
    "**Вывод**: в исследуемом датасете только одна колонка с категоральными данными. Все остальные с численными."
   ]
  },
  {
   "cell_type": "markdown",
   "id": "d9953fff",
   "metadata": {
    "id": "53871372"
   },
   "source": [
    "### Выполним предобработку данных"
   ]
  },
  {
   "cell_type": "markdown",
   "id": "c1543796",
   "metadata": {},
   "source": [
    "Более детально изучим данные. Для этого вызовем метод describe."
   ]
  },
  {
   "cell_type": "code",
   "execution_count": 5,
   "id": "3af0e8ee",
   "metadata": {
    "scrolled": true
   },
   "outputs": [
    {
     "name": "stderr",
     "output_type": "stream",
     "text": [
      "                                                                                \r"
     ]
    },
    {
     "data": {
      "text/html": [
       "<div>\n",
       "<style scoped>\n",
       "    .dataframe tbody tr th:only-of-type {\n",
       "        vertical-align: middle;\n",
       "    }\n",
       "\n",
       "    .dataframe tbody tr th {\n",
       "        vertical-align: top;\n",
       "    }\n",
       "\n",
       "    .dataframe thead th {\n",
       "        text-align: right;\n",
       "    }\n",
       "</style>\n",
       "<table border=\"1\" class=\"dataframe\">\n",
       "  <thead>\n",
       "    <tr style=\"text-align: right;\">\n",
       "      <th></th>\n",
       "      <th>summary</th>\n",
       "      <th>longitude</th>\n",
       "      <th>latitude</th>\n",
       "      <th>housing_median_age</th>\n",
       "      <th>total_rooms</th>\n",
       "      <th>total_bedrooms</th>\n",
       "      <th>population</th>\n",
       "      <th>households</th>\n",
       "      <th>median_income</th>\n",
       "      <th>median_house_value</th>\n",
       "      <th>ocean_proximity</th>\n",
       "    </tr>\n",
       "  </thead>\n",
       "  <tbody>\n",
       "    <tr>\n",
       "      <th>0</th>\n",
       "      <td>count</td>\n",
       "      <td>20640</td>\n",
       "      <td>20640</td>\n",
       "      <td>20640</td>\n",
       "      <td>20640</td>\n",
       "      <td>20433</td>\n",
       "      <td>20640</td>\n",
       "      <td>20640</td>\n",
       "      <td>20640</td>\n",
       "      <td>20640</td>\n",
       "      <td>20640</td>\n",
       "    </tr>\n",
       "    <tr>\n",
       "      <th>1</th>\n",
       "      <td>mean</td>\n",
       "      <td>-119.56970445736148</td>\n",
       "      <td>35.6318614341087</td>\n",
       "      <td>28.639486434108527</td>\n",
       "      <td>2635.7630813953488</td>\n",
       "      <td>537.8705525375618</td>\n",
       "      <td>1425.4767441860465</td>\n",
       "      <td>499.5396802325581</td>\n",
       "      <td>3.8706710029070246</td>\n",
       "      <td>206855.81690891474</td>\n",
       "      <td>None</td>\n",
       "    </tr>\n",
       "    <tr>\n",
       "      <th>2</th>\n",
       "      <td>stddev</td>\n",
       "      <td>2.003531723502584</td>\n",
       "      <td>2.135952397457101</td>\n",
       "      <td>12.58555761211163</td>\n",
       "      <td>2181.6152515827944</td>\n",
       "      <td>421.38507007403115</td>\n",
       "      <td>1132.46212176534</td>\n",
       "      <td>382.3297528316098</td>\n",
       "      <td>1.899821717945263</td>\n",
       "      <td>115395.61587441359</td>\n",
       "      <td>None</td>\n",
       "    </tr>\n",
       "    <tr>\n",
       "      <th>3</th>\n",
       "      <td>min</td>\n",
       "      <td>-124.35</td>\n",
       "      <td>32.54</td>\n",
       "      <td>1.0</td>\n",
       "      <td>2.0</td>\n",
       "      <td>1.0</td>\n",
       "      <td>3.0</td>\n",
       "      <td>1.0</td>\n",
       "      <td>0.4999</td>\n",
       "      <td>14999.0</td>\n",
       "      <td>&lt;1H OCEAN</td>\n",
       "    </tr>\n",
       "    <tr>\n",
       "      <th>4</th>\n",
       "      <td>max</td>\n",
       "      <td>-114.31</td>\n",
       "      <td>41.95</td>\n",
       "      <td>52.0</td>\n",
       "      <td>39320.0</td>\n",
       "      <td>6445.0</td>\n",
       "      <td>35682.0</td>\n",
       "      <td>6082.0</td>\n",
       "      <td>15.0001</td>\n",
       "      <td>500001.0</td>\n",
       "      <td>NEAR OCEAN</td>\n",
       "    </tr>\n",
       "  </tbody>\n",
       "</table>\n",
       "</div>"
      ],
      "text/plain": [
       "  summary            longitude           latitude  housing_median_age  \\\n",
       "0   count                20640              20640               20640   \n",
       "1    mean  -119.56970445736148   35.6318614341087  28.639486434108527   \n",
       "2  stddev    2.003531723502584  2.135952397457101   12.58555761211163   \n",
       "3     min              -124.35              32.54                 1.0   \n",
       "4     max              -114.31              41.95                52.0   \n",
       "\n",
       "          total_rooms      total_bedrooms          population  \\\n",
       "0               20640               20433               20640   \n",
       "1  2635.7630813953488   537.8705525375618  1425.4767441860465   \n",
       "2  2181.6152515827944  421.38507007403115    1132.46212176534   \n",
       "3                 2.0                 1.0                 3.0   \n",
       "4             39320.0              6445.0             35682.0   \n",
       "\n",
       "          households       median_income  median_house_value ocean_proximity  \n",
       "0              20640               20640               20640           20640  \n",
       "1  499.5396802325581  3.8706710029070246  206855.81690891474            None  \n",
       "2  382.3297528316098   1.899821717945263  115395.61587441359            None  \n",
       "3                1.0              0.4999             14999.0       <1H OCEAN  \n",
       "4             6082.0             15.0001            500001.0      NEAR OCEAN  "
      ]
     },
     "execution_count": 5,
     "metadata": {},
     "output_type": "execute_result"
    }
   ],
   "source": [
    "df_housing.describe().toPandas()"
   ]
  },
  {
   "cell_type": "markdown",
   "id": "ffade148",
   "metadata": {},
   "source": [
    "Из данных видно следующее:\n",
    "1. Значения координат корректные, т.к. минимальные и максимальные значения долготы и широты соответветствуют Калифорнии;\n",
    "2. Медианный возраст жителей массива корректный;\n",
    "3. Общее количество спален имеет пропуски. Количество пропусков 207. Заполнить пропуски можно нулевыми значениями."
   ]
  },
  {
   "cell_type": "markdown",
   "id": "330e6e1f",
   "metadata": {
    "id": "53871372"
   },
   "source": [
    "#### Заполним пропуски в данных"
   ]
  },
  {
   "cell_type": "code",
   "execution_count": 6,
   "id": "62025f4d",
   "metadata": {},
   "outputs": [],
   "source": [
    "df_housing = df_housing.na.fill(0)"
   ]
  },
  {
   "cell_type": "markdown",
   "id": "0d6c1bfc",
   "metadata": {},
   "source": [
    "Проверка."
   ]
  },
  {
   "cell_type": "code",
   "execution_count": 7,
   "id": "bbf48880",
   "metadata": {},
   "outputs": [
    {
     "name": "stdout",
     "output_type": "stream",
     "text": [
      "longitude 0\n",
      "latitude 0\n",
      "housing_median_age 0\n",
      "total_rooms 0\n",
      "total_bedrooms 0\n",
      "population 0\n",
      "households 0\n",
      "median_income 0\n",
      "median_house_value 0\n",
      "ocean_proximity 0\n"
     ]
    }
   ],
   "source": [
    "columns = df_housing.columns\n",
    "\n",
    "\n",
    "for column in columns:\n",
    "    print(column, df_housing.where(F.isnan(column) | F.col(column).isNull()).count())"
   ]
  },
  {
   "cell_type": "markdown",
   "id": "9a6debee",
   "metadata": {},
   "source": [
    "Проверка выполнена. Пропусков не осталось. Теперь разделим колонки на два типа: числовые и категориальные. "
   ]
  },
  {
   "cell_type": "code",
   "execution_count": 8,
   "id": "13741991",
   "metadata": {},
   "outputs": [],
   "source": [
    "categorical_cols = ['ocean_proximity']\n",
    "numerical_cols  = [\"longitude\", \"latitude\", \"housing_median_age\", \"total_rooms\", \"total_bedrooms\", \"population\",\n",
    "                   \"households\", \"median_income\"]\n",
    "target = \"median_house_value\" "
   ]
  },
  {
   "cell_type": "markdown",
   "id": "a91da502",
   "metadata": {
    "id": "53871372"
   },
   "source": [
    "#### Преобразуем колонку с категориальными данными с помощью ОНЕ"
   ]
  },
  {
   "cell_type": "code",
   "execution_count": 9,
   "id": "b6be9d7f",
   "metadata": {},
   "outputs": [
    {
     "name": "stdout",
     "output_type": "stream",
     "text": [
      "16418 4222\n"
     ]
    }
   ],
   "source": [
    "#Разделим модель на тренировочную и тестовую выборки:\n",
    "train_data, test_data = df_housing.randomSplit([.8,.2], seed=RANDOM_SEED)\n",
    "print(train_data.count(), test_data.count()) "
   ]
  },
  {
   "cell_type": "code",
   "execution_count": 10,
   "id": "81b5c31d",
   "metadata": {},
   "outputs": [
    {
     "name": "stderr",
     "output_type": "stream",
     "text": [
      "                                                                                \r"
     ]
    }
   ],
   "source": [
    "#Сначала трансформируем категориальные признаки в числовое представление с помощью трансформера StringIndexer:\n",
    "indexer = StringIndexer(inputCols=categorical_cols, \n",
    "                        outputCols=[c+'_idx' for c in categorical_cols], handleInvalid=\"keep\") \n",
    "model = indexer.fit(train_data)\n",
    "train_data = model.transform(train_data)\n",
    "test_data = model.transform(test_data)"
   ]
  },
  {
   "cell_type": "code",
   "execution_count": 11,
   "id": "86504c81",
   "metadata": {},
   "outputs": [
    {
     "name": "stderr",
     "output_type": "stream",
     "text": [
      "                                                                                \r"
     ]
    },
    {
     "data": {
      "text/html": [
       "<div>\n",
       "<style scoped>\n",
       "    .dataframe tbody tr th:only-of-type {\n",
       "        vertical-align: middle;\n",
       "    }\n",
       "\n",
       "    .dataframe tbody tr th {\n",
       "        vertical-align: top;\n",
       "    }\n",
       "\n",
       "    .dataframe thead th {\n",
       "        text-align: right;\n",
       "    }\n",
       "</style>\n",
       "<table border=\"1\" class=\"dataframe\">\n",
       "  <thead>\n",
       "    <tr style=\"text-align: right;\">\n",
       "      <th></th>\n",
       "      <th>summary</th>\n",
       "      <th>longitude</th>\n",
       "      <th>latitude</th>\n",
       "      <th>housing_median_age</th>\n",
       "      <th>total_rooms</th>\n",
       "      <th>total_bedrooms</th>\n",
       "      <th>population</th>\n",
       "      <th>households</th>\n",
       "      <th>median_income</th>\n",
       "      <th>median_house_value</th>\n",
       "      <th>ocean_proximity</th>\n",
       "      <th>ocean_proximity_idx</th>\n",
       "    </tr>\n",
       "  </thead>\n",
       "  <tbody>\n",
       "    <tr>\n",
       "      <th>0</th>\n",
       "      <td>count</td>\n",
       "      <td>16418</td>\n",
       "      <td>16418</td>\n",
       "      <td>16418</td>\n",
       "      <td>16418</td>\n",
       "      <td>16418</td>\n",
       "      <td>16418</td>\n",
       "      <td>16418</td>\n",
       "      <td>16418</td>\n",
       "      <td>16418</td>\n",
       "      <td>16418</td>\n",
       "      <td>16418</td>\n",
       "    </tr>\n",
       "    <tr>\n",
       "      <th>1</th>\n",
       "      <td>mean</td>\n",
       "      <td>-119.56720855158979</td>\n",
       "      <td>35.632537458886816</td>\n",
       "      <td>28.67809721037885</td>\n",
       "      <td>2635.865878913388</td>\n",
       "      <td>531.5313680107199</td>\n",
       "      <td>1424.8680107199416</td>\n",
       "      <td>499.401936898526</td>\n",
       "      <td>3.8599032647094864</td>\n",
       "      <td>206166.77207942502</td>\n",
       "      <td>None</td>\n",
       "      <td>0.9091850408088683</td>\n",
       "    </tr>\n",
       "    <tr>\n",
       "      <th>2</th>\n",
       "      <td>stddev</td>\n",
       "      <td>2.007170358524894</td>\n",
       "      <td>2.137638120554967</td>\n",
       "      <td>12.583767547384063</td>\n",
       "      <td>2194.1395066716864</td>\n",
       "      <td>422.6201945683686</td>\n",
       "      <td>1141.8443927369387</td>\n",
       "      <td>383.6679584089657</td>\n",
       "      <td>1.8958698224587758</td>\n",
       "      <td>115137.08168148558</td>\n",
       "      <td>None</td>\n",
       "      <td>1.0036054542951498</td>\n",
       "    </tr>\n",
       "    <tr>\n",
       "      <th>3</th>\n",
       "      <td>min</td>\n",
       "      <td>-124.35</td>\n",
       "      <td>32.54</td>\n",
       "      <td>1.0</td>\n",
       "      <td>2.0</td>\n",
       "      <td>0.0</td>\n",
       "      <td>3.0</td>\n",
       "      <td>1.0</td>\n",
       "      <td>0.4999</td>\n",
       "      <td>14999.0</td>\n",
       "      <td>&lt;1H OCEAN</td>\n",
       "      <td>0.0</td>\n",
       "    </tr>\n",
       "    <tr>\n",
       "      <th>4</th>\n",
       "      <td>max</td>\n",
       "      <td>-114.31</td>\n",
       "      <td>41.95</td>\n",
       "      <td>52.0</td>\n",
       "      <td>39320.0</td>\n",
       "      <td>6445.0</td>\n",
       "      <td>35682.0</td>\n",
       "      <td>6082.0</td>\n",
       "      <td>15.0001</td>\n",
       "      <td>500001.0</td>\n",
       "      <td>NEAR OCEAN</td>\n",
       "      <td>3.0</td>\n",
       "    </tr>\n",
       "  </tbody>\n",
       "</table>\n",
       "</div>"
      ],
      "text/plain": [
       "  summary            longitude            latitude  housing_median_age  \\\n",
       "0   count                16418               16418               16418   \n",
       "1    mean  -119.56720855158979  35.632537458886816   28.67809721037885   \n",
       "2  stddev    2.007170358524894   2.137638120554967  12.583767547384063   \n",
       "3     min              -124.35               32.54                 1.0   \n",
       "4     max              -114.31               41.95                52.0   \n",
       "\n",
       "          total_rooms     total_bedrooms          population  \\\n",
       "0               16418              16418               16418   \n",
       "1   2635.865878913388  531.5313680107199  1424.8680107199416   \n",
       "2  2194.1395066716864  422.6201945683686  1141.8443927369387   \n",
       "3                 2.0                0.0                 3.0   \n",
       "4             39320.0             6445.0             35682.0   \n",
       "\n",
       "          households       median_income  median_house_value ocean_proximity  \\\n",
       "0              16418               16418               16418           16418   \n",
       "1   499.401936898526  3.8599032647094864  206166.77207942502            None   \n",
       "2  383.6679584089657  1.8958698224587758  115137.08168148558            None   \n",
       "3                1.0              0.4999             14999.0       <1H OCEAN   \n",
       "4             6082.0             15.0001            500001.0      NEAR OCEAN   \n",
       "\n",
       "  ocean_proximity_idx  \n",
       "0               16418  \n",
       "1  0.9091850408088683  \n",
       "2  1.0036054542951498  \n",
       "3                 0.0  \n",
       "4                 3.0  "
      ]
     },
     "execution_count": 11,
     "metadata": {},
     "output_type": "execute_result"
    }
   ],
   "source": [
    "#Далее выполним OHE-кодирование для категорий:\n",
    "ohe = OneHotEncoder(inputCols=[c+'_idx' for c in categorical_cols],\n",
    "                        outputCols=[c+'_ohe' for c in categorical_cols], handleInvalid=\"keep\")\n",
    "model = ohe.fit(train_data)\n",
    "train_data = model.transform(train_data)\n",
    "test_data = model.transform(test_data)\n",
    "train_data.describe().toPandas()"
   ]
  },
  {
   "cell_type": "code",
   "execution_count": 12,
   "id": "d7fb1631",
   "metadata": {},
   "outputs": [
    {
     "name": "stderr",
     "output_type": "stream",
     "text": [
      "                                                                                \r"
     ]
    },
    {
     "data": {
      "text/html": [
       "<div>\n",
       "<style scoped>\n",
       "    .dataframe tbody tr th:only-of-type {\n",
       "        vertical-align: middle;\n",
       "    }\n",
       "\n",
       "    .dataframe tbody tr th {\n",
       "        vertical-align: top;\n",
       "    }\n",
       "\n",
       "    .dataframe thead th {\n",
       "        text-align: right;\n",
       "    }\n",
       "</style>\n",
       "<table border=\"1\" class=\"dataframe\">\n",
       "  <thead>\n",
       "    <tr style=\"text-align: right;\">\n",
       "      <th></th>\n",
       "      <th>summary</th>\n",
       "      <th>longitude</th>\n",
       "      <th>latitude</th>\n",
       "      <th>housing_median_age</th>\n",
       "      <th>total_rooms</th>\n",
       "      <th>total_bedrooms</th>\n",
       "      <th>population</th>\n",
       "      <th>households</th>\n",
       "      <th>median_income</th>\n",
       "      <th>median_house_value</th>\n",
       "      <th>ocean_proximity</th>\n",
       "      <th>ocean_proximity_idx</th>\n",
       "    </tr>\n",
       "  </thead>\n",
       "  <tbody>\n",
       "    <tr>\n",
       "      <th>0</th>\n",
       "      <td>count</td>\n",
       "      <td>4222</td>\n",
       "      <td>4222</td>\n",
       "      <td>4222</td>\n",
       "      <td>4222</td>\n",
       "      <td>4222</td>\n",
       "      <td>4222</td>\n",
       "      <td>4222</td>\n",
       "      <td>4222</td>\n",
       "      <td>4222</td>\n",
       "      <td>4222</td>\n",
       "      <td>4222</td>\n",
       "    </tr>\n",
       "    <tr>\n",
       "      <th>1</th>\n",
       "      <td>mean</td>\n",
       "      <td>-119.57941023211727</td>\n",
       "      <td>35.62923259118911</td>\n",
       "      <td>28.489341544291804</td>\n",
       "      <td>2635.363334912364</td>\n",
       "      <td>536.1504026527712</td>\n",
       "      <td>1427.8439128375178</td>\n",
       "      <td>500.07531975367124</td>\n",
       "      <td>3.912543273330184</td>\n",
       "      <td>209535.29062055898</td>\n",
       "      <td>None</td>\n",
       "      <td>0.9071530080530554</td>\n",
       "    </tr>\n",
       "    <tr>\n",
       "      <th>2</th>\n",
       "      <td>stddev</td>\n",
       "      <td>1.9895257132603632</td>\n",
       "      <td>2.1296350603031557</td>\n",
       "      <td>12.592881835143269</td>\n",
       "      <td>2132.4688640647682</td>\n",
       "      <td>422.93434838114814</td>\n",
       "      <td>1095.3425940223842</td>\n",
       "      <td>377.12527133454745</td>\n",
       "      <td>1.914762150871446</td>\n",
       "      <td>116370.4567235921</td>\n",
       "      <td>None</td>\n",
       "      <td>1.0083287346111869</td>\n",
       "    </tr>\n",
       "    <tr>\n",
       "      <th>3</th>\n",
       "      <td>min</td>\n",
       "      <td>-124.3</td>\n",
       "      <td>32.55</td>\n",
       "      <td>1.0</td>\n",
       "      <td>11.0</td>\n",
       "      <td>0.0</td>\n",
       "      <td>13.0</td>\n",
       "      <td>5.0</td>\n",
       "      <td>0.4999</td>\n",
       "      <td>17500.0</td>\n",
       "      <td>&lt;1H OCEAN</td>\n",
       "      <td>0.0</td>\n",
       "    </tr>\n",
       "    <tr>\n",
       "      <th>4</th>\n",
       "      <td>max</td>\n",
       "      <td>-114.47</td>\n",
       "      <td>41.84</td>\n",
       "      <td>52.0</td>\n",
       "      <td>21533.0</td>\n",
       "      <td>4492.0</td>\n",
       "      <td>12427.0</td>\n",
       "      <td>4372.0</td>\n",
       "      <td>15.0001</td>\n",
       "      <td>500001.0</td>\n",
       "      <td>NEAR OCEAN</td>\n",
       "      <td>4.0</td>\n",
       "    </tr>\n",
       "  </tbody>\n",
       "</table>\n",
       "</div>"
      ],
      "text/plain": [
       "  summary            longitude            latitude  housing_median_age  \\\n",
       "0   count                 4222                4222                4222   \n",
       "1    mean  -119.57941023211727   35.62923259118911  28.489341544291804   \n",
       "2  stddev   1.9895257132603632  2.1296350603031557  12.592881835143269   \n",
       "3     min               -124.3               32.55                 1.0   \n",
       "4     max              -114.47               41.84                52.0   \n",
       "\n",
       "          total_rooms      total_bedrooms          population  \\\n",
       "0                4222                4222                4222   \n",
       "1   2635.363334912364   536.1504026527712  1427.8439128375178   \n",
       "2  2132.4688640647682  422.93434838114814  1095.3425940223842   \n",
       "3                11.0                 0.0                13.0   \n",
       "4             21533.0              4492.0             12427.0   \n",
       "\n",
       "           households      median_income  median_house_value ocean_proximity  \\\n",
       "0                4222               4222                4222            4222   \n",
       "1  500.07531975367124  3.912543273330184  209535.29062055898            None   \n",
       "2  377.12527133454745  1.914762150871446   116370.4567235921            None   \n",
       "3                 5.0             0.4999             17500.0       <1H OCEAN   \n",
       "4              4372.0            15.0001            500001.0      NEAR OCEAN   \n",
       "\n",
       "  ocean_proximity_idx  \n",
       "0                4222  \n",
       "1  0.9071530080530554  \n",
       "2  1.0083287346111869  \n",
       "3                 0.0  \n",
       "4                 4.0  "
      ]
     },
     "execution_count": 12,
     "metadata": {},
     "output_type": "execute_result"
    }
   ],
   "source": [
    "test_data.describe().toPandas()"
   ]
  },
  {
   "cell_type": "code",
   "execution_count": 13,
   "id": "b8d867da",
   "metadata": {},
   "outputs": [],
   "source": [
    "#Объединим признаки в один вектор с помощью VectorAssembler:\n",
    "categorical_assembler = \\\n",
    "        VectorAssembler(inputCols=[c+'_ohe' for c in categorical_cols],\n",
    "                                        outputCol=\"categorical_features\", handleInvalid=\"keep\")\n",
    "train_data = categorical_assembler.transform(train_data)\n",
    "test_data = categorical_assembler.transform(test_data)"
   ]
  },
  {
   "cell_type": "markdown",
   "id": "9ec17a26",
   "metadata": {},
   "source": [
    "**Выводы по разделу**:\n",
    "1. Пропущенные значения были только в колонке с общим количеством спален. Скорее всего, в жилье с одной комнатой их количество не указывалось;\n",
    "2. Колонка с категориальным признаком была трансформирована с помощью техники ОНЕ."
   ]
  },
  {
   "cell_type": "markdown",
   "id": "9f0a82f3",
   "metadata": {
    "id": "9f0a82f3"
   },
   "source": [
    "## Обучение моделей"
   ]
  },
  {
   "cell_type": "code",
   "execution_count": 14,
   "id": "cc7a9938",
   "metadata": {},
   "outputs": [
    {
     "name": "stderr",
     "output_type": "stream",
     "text": [
      "                                                                                \r"
     ]
    }
   ],
   "source": [
    "#Прежде, чем перейти к обучению моделей мы трансформируем и числовые признаки. Это нужно, чтобы сильные выбросы не \n",
    "#влияли на результат работы модели.\n",
    "numerical_assembler = VectorAssembler(inputCols=numerical_cols, outputCol=\"numerical_features\")\n",
    "train_data = numerical_assembler.transform(train_data)\n",
    "test_data = numerical_assembler.transform(test_data)\n",
    "standardScaler = StandardScaler(inputCol='numerical_features',outputCol=\"numerical_features_scaled\")\n",
    "model = standardScaler.fit(train_data)\n",
    "train_data = model.transform(train_data)\n",
    "test_data = model.transform(test_data)"
   ]
  },
  {
   "cell_type": "code",
   "execution_count": 15,
   "id": "6aabcff0",
   "metadata": {},
   "outputs": [
    {
     "name": "stdout",
     "output_type": "stream",
     "text": [
      "+--------------------+-------------------------+\n",
      "|categorical_features|numerical_features_scaled|\n",
      "+--------------------+-------------------------+\n",
      "|       (5,[2],[1.0])|     [-61.952887791441...|\n",
      "|       (5,[2],[1.0])|     [-61.927977100733...|\n",
      "|       (5,[2],[1.0])|     [-61.913030686308...|\n",
      "+--------------------+-------------------------+\n",
      "only showing top 3 rows\n",
      "\n",
      "+--------------------+-------------------------+\n",
      "|categorical_features|numerical_features_scaled|\n",
      "+--------------------+-------------------------+\n",
      "|       (5,[2],[1.0])|     [-61.927977100733...|\n",
      "|       (5,[2],[1.0])|     [-61.893102133741...|\n",
      "|       (5,[2],[1.0])|     [-61.883137857458...|\n",
      "+--------------------+-------------------------+\n",
      "only showing top 3 rows\n",
      "\n"
     ]
    }
   ],
   "source": [
    "#Далее соберем полученные категорийные и числовые признаки с помощью VectorAssembler:\n",
    "all_features = ['categorical_features','numerical_features_scaled']\n",
    "\n",
    "final_assembler = VectorAssembler(inputCols=all_features, outputCol=\"features\") \n",
    "train_data = final_assembler.transform(train_data)\n",
    "test_data = final_assembler.transform(test_data)\n",
    "train_data.select(all_features).show(3)\n",
    "test_data.select(all_features).show(3)"
   ]
  },
  {
   "cell_type": "markdown",
   "id": "107c8e38",
   "metadata": {
    "id": "53871372"
   },
   "source": [
    "### Обучение модели на всех данных"
   ]
  },
  {
   "cell_type": "code",
   "execution_count": 16,
   "id": "bddb08c4",
   "metadata": {
    "id": "bddb08c4"
   },
   "outputs": [],
   "source": [
    "lr_1 = LinearRegression(labelCol=target, featuresCol='features',regParam=0.0)"
   ]
  },
  {
   "cell_type": "code",
   "execution_count": 17,
   "id": "01a94e72",
   "metadata": {},
   "outputs": [
    {
     "name": "stderr",
     "output_type": "stream",
     "text": [
      "24/12/18 05:33:35 WARN Instrumentation: [1ed6a7bd] regParam is zero, which might cause numerical instability and overfitting.\n",
      "24/12/18 05:33:35 WARN BLAS: Failed to load implementation from: com.github.fommil.netlib.NativeSystemBLAS\n",
      "24/12/18 05:33:35 WARN BLAS: Failed to load implementation from: com.github.fommil.netlib.NativeRefBLAS\n",
      "24/12/18 05:33:36 WARN LAPACK: Failed to load implementation from: com.github.fommil.netlib.NativeSystemLAPACK\n",
      "24/12/18 05:33:36 WARN LAPACK: Failed to load implementation from: com.github.fommil.netlib.NativeRefLAPACK\n",
      "24/12/18 05:33:36 WARN Instrumentation: [1ed6a7bd] Cholesky solver failed due to singular covariance matrix. Retrying with Quasi-Newton solver.\n",
      "                                                                                \r"
     ]
    }
   ],
   "source": [
    "model = lr_1.fit(train_data) "
   ]
  },
  {
   "cell_type": "code",
   "execution_count": 18,
   "id": "abd889d4",
   "metadata": {},
   "outputs": [],
   "source": [
    "#Сохраним трансформированную таблицу с колонкой предсказания первой модели в переменной predictions:\n",
    "predictions = model.transform(test_data)\n",
    "predictions_col = 'prediction'"
   ]
  },
  {
   "cell_type": "markdown",
   "id": "6a5c9d25",
   "metadata": {
    "id": "53871372"
   },
   "source": [
    "### Обучение модели только на числовых данных"
   ]
  },
  {
   "cell_type": "code",
   "execution_count": 19,
   "id": "398d9372",
   "metadata": {},
   "outputs": [],
   "source": [
    "lr_2 = LinearRegression(labelCol=target, featuresCol='numerical_features_scaled', regParam=0.0)"
   ]
  },
  {
   "cell_type": "code",
   "execution_count": 20,
   "id": "4f5cf2c9",
   "metadata": {},
   "outputs": [
    {
     "name": "stderr",
     "output_type": "stream",
     "text": [
      "24/12/18 05:33:39 WARN Instrumentation: [b98646c9] regParam is zero, which might cause numerical instability and overfitting.\n"
     ]
    }
   ],
   "source": [
    "model2 = lr_2.fit(train_data) "
   ]
  },
  {
   "cell_type": "code",
   "execution_count": 21,
   "id": "9c01f8fb",
   "metadata": {},
   "outputs": [],
   "source": [
    "#Сохраним трансформированную таблицу с колонкой предсказания второй модели в переменной predictions2:\n",
    "predictions2 = model2.transform(test_data)"
   ]
  },
  {
   "cell_type": "markdown",
   "id": "757fd103",
   "metadata": {
    "id": "757fd103"
   },
   "source": [
    "## Анализ результатов"
   ]
  },
  {
   "cell_type": "code",
   "execution_count": 22,
   "id": "2c2a007f",
   "metadata": {},
   "outputs": [],
   "source": [
    "#Для анализа результатов работы модели создадим объект класса RegressionEvaluator:\n",
    "evaluator = RegressionEvaluator(predictionCol=predictions_col, labelCol = target)"
   ]
  },
  {
   "cell_type": "markdown",
   "id": "a5317b86",
   "metadata": {
    "id": "53871372"
   },
   "source": [
    "### RMSE"
   ]
  },
  {
   "cell_type": "markdown",
   "id": "895a2158",
   "metadata": {},
   "source": [
    "Первая метрика - корень от средней квадратической ошибки. В свою очередь средняя квадратическая ошибка - это величина равная сумме квадратов отклонений (разница между предсказанием и фактической величиной целевого признака), разделенной на количество объектов. Чем точнее модель, тем больше значение RMSE будет стремиться к нулю."
   ]
  },
  {
   "cell_type": "code",
   "execution_count": 23,
   "id": "779b20db",
   "metadata": {
    "scrolled": true
   },
   "outputs": [
    {
     "data": {
      "text/plain": [
       "68547.35345527249"
      ]
     },
     "execution_count": 23,
     "metadata": {},
     "output_type": "execute_result"
    }
   ],
   "source": [
    "#Для первой (учитывающей все признаки):\n",
    "evaluator.evaluate(predictions, {evaluator.metricName: \"rmse\"})"
   ]
  },
  {
   "cell_type": "code",
   "execution_count": 24,
   "id": "ba107cd1",
   "metadata": {},
   "outputs": [
    {
     "data": {
      "text/plain": [
       "69278.38973957153"
      ]
     },
     "execution_count": 24,
     "metadata": {},
     "output_type": "execute_result"
    }
   ],
   "source": [
    "#И для второй (учитывающей только количественные признаки):\n",
    "evaluator.evaluate(predictions2, {evaluator.metricName: \"rmse\"})"
   ]
  },
  {
   "cell_type": "markdown",
   "id": "76a5e228",
   "metadata": {},
   "source": [
    "**Вывод**: первая модель работает точнее."
   ]
  },
  {
   "cell_type": "markdown",
   "id": "8886f7c9",
   "metadata": {
    "id": "53871372"
   },
   "source": [
    "### MAE"
   ]
  },
  {
   "cell_type": "markdown",
   "id": "095da7f5",
   "metadata": {},
   "source": [
    "Среднее абсолютное значение или MAE - это величина, равная сумме всех модулей отклонений (разница между предсказанием и фактическим значением целевого признака), разделенная на количество объектов в выборке.\n",
    "\n",
    "Соответственно, для модели, которая идеально работает, MAE будет равен 0. Поэтому, чем меньше будет значение этой метрики, тем точнее модель."
   ]
  },
  {
   "cell_type": "code",
   "execution_count": 25,
   "id": "2b0e1391",
   "metadata": {},
   "outputs": [
    {
     "data": {
      "text/plain": [
       "49977.32492934058"
      ]
     },
     "execution_count": 25,
     "metadata": {},
     "output_type": "execute_result"
    }
   ],
   "source": [
    "#Для первой (учитывающей все признаки):\n",
    "evaluator.evaluate(predictions, {evaluator.metricName: \"mae\"})"
   ]
  },
  {
   "cell_type": "code",
   "execution_count": 26,
   "id": "d771f33f",
   "metadata": {},
   "outputs": [
    {
     "data": {
      "text/plain": [
       "51010.980939849156"
      ]
     },
     "execution_count": 26,
     "metadata": {},
     "output_type": "execute_result"
    }
   ],
   "source": [
    "#И для второй (учитывающей только количественные признаки):\n",
    "evaluator.evaluate(predictions2, {evaluator.metricName: \"mae\"})"
   ]
  },
  {
   "cell_type": "markdown",
   "id": "0fe0be74",
   "metadata": {},
   "source": [
    "**Вывод**: первая модель работает точнее."
   ]
  },
  {
   "cell_type": "markdown",
   "id": "3256bcc4",
   "metadata": {
    "id": "53871372"
   },
   "source": [
    "### R2"
   ]
  },
  {
   "cell_type": "markdown",
   "id": "fd0f7a99",
   "metadata": {},
   "source": [
    "Коэффициент детерминации (R2) равен значению равному:\n",
    "\n",
    "1 - доля среднеквадратической ошибки модели от MSE среднего.\n",
    "\n",
    "Это значит, что R2 равно единице, когда модель идеально предсказывает результат, а 0 - когда работает также, как и среднее. Соответственно, чем выше R2, тем точнее модель."
   ]
  },
  {
   "cell_type": "code",
   "execution_count": 27,
   "id": "e2524589",
   "metadata": {},
   "outputs": [
    {
     "data": {
      "text/plain": [
       "0.652944618740229"
      ]
     },
     "execution_count": 27,
     "metadata": {},
     "output_type": "execute_result"
    }
   ],
   "source": [
    "#Для первой (учитывающей все признаки):\n",
    "evaluator.evaluate(predictions, {evaluator.metricName: \"r2\"})"
   ]
  },
  {
   "cell_type": "code",
   "execution_count": 28,
   "id": "1a796c2b",
   "metadata": {},
   "outputs": [
    {
     "data": {
      "text/plain": [
       "0.645502669979857"
      ]
     },
     "execution_count": 28,
     "metadata": {},
     "output_type": "execute_result"
    }
   ],
   "source": [
    "#И для второй (учитывающей только количественные признаки):\n",
    "evaluator.evaluate(predictions2, {evaluator.metricName: \"r2\"})"
   ]
  },
  {
   "cell_type": "markdown",
   "id": "9333b14d",
   "metadata": {},
   "source": [
    "**Вывод**: первая модель работает точнее."
   ]
  },
  {
   "cell_type": "markdown",
   "id": "75c878d0",
   "metadata": {
    "id": "GEqQaHzsZ_bA"
   },
   "source": [
    "# Выводы:\n",
    "\n",
    "В результате выполнения данной работы получено следующее:\n",
    "\n",
    "- Инициализирована локальная Spark-сессию;\n",
    "- Проведена предобработка данных, используя методы pySpark;\n",
    "- Проведено исследование данных на наличие пропусков и их устранение;\n",
    "- Преобразована колонка с категориальными значениями техникой One hot encoding;\n",
    "- Проведена стандартизации количественных признаков.\n",
    "\n",
    "При построение двух моделей линейной регрессии на разных наборах данных:\n",
    "\n",
    "- используя все данные из файла;\n",
    "- используя только числовые переменные, исключив категориальные.\n",
    "\n",
    "Согласно всем трем метрикам RMSE, MAE и R2 точнее работает первая модель, использующая все данные из файла."
   ]
  },
  {
   "cell_type": "code",
   "execution_count": 29,
   "id": "667ae3a5",
   "metadata": {},
   "outputs": [],
   "source": [
    "spark.stop()"
   ]
  }
 ],
 "metadata": {
  "ExecuteTimeLog": [
   {
    "duration": 1626,
    "start_time": "2024-12-15T09:42:25.690Z"
   },
   {
    "duration": 15336,
    "start_time": "2024-12-15T09:49:12.408Z"
   },
   {
    "duration": 8664,
    "start_time": "2024-12-15T09:52:03.866Z"
   },
   {
    "duration": 40,
    "start_time": "2024-12-15T09:55:11.037Z"
   },
   {
    "duration": 4239,
    "start_time": "2024-12-15T10:01:00.714Z"
   },
   {
    "duration": 1293,
    "start_time": "2024-12-15T12:47:11.170Z"
   },
   {
    "duration": 15507,
    "start_time": "2024-12-15T12:47:12.465Z"
   },
   {
    "duration": 8816,
    "start_time": "2024-12-15T12:47:28.030Z"
   },
   {
    "duration": 92,
    "start_time": "2024-12-15T12:47:36.848Z"
   },
   {
    "duration": 4310,
    "start_time": "2024-12-15T12:47:36.942Z"
   },
   {
    "duration": 146,
    "start_time": "2024-12-15T12:52:39.893Z"
   },
   {
    "duration": 132,
    "start_time": "2024-12-15T12:59:26.998Z"
   },
   {
    "duration": 4070,
    "start_time": "2024-12-15T13:00:54.805Z"
   },
   {
    "duration": 6,
    "start_time": "2024-12-15T13:05:07.587Z"
   },
   {
    "duration": 1282,
    "start_time": "2024-12-15T13:07:14.164Z"
   },
   {
    "duration": 2275,
    "start_time": "2024-12-15T13:07:39.007Z"
   },
   {
    "duration": 285,
    "start_time": "2024-12-15T13:08:07.904Z"
   },
   {
    "duration": 128,
    "start_time": "2024-12-15T13:08:29.903Z"
   },
   {
    "duration": 1255,
    "start_time": "2024-12-15T13:08:34.586Z"
   },
   {
    "duration": 15401,
    "start_time": "2024-12-15T13:08:35.844Z"
   },
   {
    "duration": 8813,
    "start_time": "2024-12-15T13:08:51.247Z"
   },
   {
    "duration": 43,
    "start_time": "2024-12-15T13:09:00.129Z"
   },
   {
    "duration": 4473,
    "start_time": "2024-12-15T13:09:00.174Z"
   },
   {
    "duration": 207,
    "start_time": "2024-12-15T13:09:04.649Z"
   },
   {
    "duration": 4515,
    "start_time": "2024-12-15T13:09:04.858Z"
   },
   {
    "duration": 3,
    "start_time": "2024-12-15T13:09:09.375Z"
   },
   {
    "duration": 1523,
    "start_time": "2024-12-15T13:09:09.429Z"
   },
   {
    "duration": 2375,
    "start_time": "2024-12-15T13:09:10.956Z"
   },
   {
    "duration": 48,
    "start_time": "2024-12-15T13:13:38.586Z"
   },
   {
    "duration": 1032,
    "start_time": "2024-12-15T13:23:03.534Z"
   },
   {
    "duration": 426,
    "start_time": "2024-12-15T13:25:07.624Z"
   },
   {
    "duration": 239,
    "start_time": "2024-12-15T13:25:46.591Z"
   },
   {
    "duration": 1309,
    "start_time": "2024-12-15T13:25:51.321Z"
   },
   {
    "duration": 15203,
    "start_time": "2024-12-15T13:25:52.631Z"
   },
   {
    "duration": 8393,
    "start_time": "2024-12-15T13:26:07.837Z"
   },
   {
    "duration": 34,
    "start_time": "2024-12-15T13:26:16.232Z"
   },
   {
    "duration": 4705,
    "start_time": "2024-12-15T13:26:16.329Z"
   },
   {
    "duration": 206,
    "start_time": "2024-12-15T13:26:21.036Z"
   },
   {
    "duration": 4508,
    "start_time": "2024-12-15T13:26:21.244Z"
   },
   {
    "duration": 3,
    "start_time": "2024-12-15T13:26:25.754Z"
   },
   {
    "duration": 1490,
    "start_time": "2024-12-15T13:26:25.759Z"
   },
   {
    "duration": 2680,
    "start_time": "2024-12-15T13:26:27.251Z"
   },
   {
    "duration": 46,
    "start_time": "2024-12-15T13:26:29.933Z"
   },
   {
    "duration": 1199,
    "start_time": "2024-12-15T13:26:30.031Z"
   },
   {
    "duration": 468,
    "start_time": "2024-12-15T13:26:31.232Z"
   },
   {
    "duration": 2995,
    "start_time": "2024-12-15T13:35:43.536Z"
   },
   {
    "duration": 37,
    "start_time": "2024-12-15T13:37:20.783Z"
   },
   {
    "duration": 4415,
    "start_time": "2024-12-15T13:37:36.617Z"
   },
   {
    "duration": 21,
    "start_time": "2024-12-15T13:39:12.027Z"
   },
   {
    "duration": 8,
    "start_time": "2024-12-15T13:41:23.064Z"
   },
   {
    "duration": 3161,
    "start_time": "2024-12-15T13:41:36.801Z"
   },
   {
    "duration": 27,
    "start_time": "2024-12-15T13:42:46.595Z"
   },
   {
    "duration": 1295,
    "start_time": "2024-12-15T13:43:51.973Z"
   },
   {
    "duration": 15665,
    "start_time": "2024-12-15T13:43:53.270Z"
   },
   {
    "duration": 8909,
    "start_time": "2024-12-15T13:44:08.937Z"
   },
   {
    "duration": 92,
    "start_time": "2024-12-15T13:44:17.849Z"
   },
   {
    "duration": 4713,
    "start_time": "2024-12-15T13:44:17.943Z"
   },
   {
    "duration": 272,
    "start_time": "2024-12-15T13:44:22.658Z"
   },
   {
    "duration": 4639,
    "start_time": "2024-12-15T13:44:22.933Z"
   },
   {
    "duration": 3,
    "start_time": "2024-12-15T13:44:27.574Z"
   },
   {
    "duration": 1488,
    "start_time": "2024-12-15T13:44:27.579Z"
   },
   {
    "duration": 2774,
    "start_time": "2024-12-15T13:44:29.069Z"
   },
   {
    "duration": 102,
    "start_time": "2024-12-15T13:44:31.845Z"
   },
   {
    "duration": 1208,
    "start_time": "2024-12-15T13:44:31.949Z"
   },
   {
    "duration": 489,
    "start_time": "2024-12-15T13:44:33.159Z"
   },
   {
    "duration": 3081,
    "start_time": "2024-12-15T13:44:33.650Z"
   },
   {
    "duration": 103,
    "start_time": "2024-12-15T13:44:36.734Z"
   },
   {
    "duration": 5002,
    "start_time": "2024-12-15T13:44:36.838Z"
   },
   {
    "duration": 21,
    "start_time": "2024-12-15T13:44:41.841Z"
   },
   {
    "duration": 75,
    "start_time": "2024-12-15T13:44:41.864Z"
   },
   {
    "duration": 3503,
    "start_time": "2024-12-15T13:44:41.941Z"
   },
   {
    "duration": 84,
    "start_time": "2024-12-15T13:44:45.446Z"
   },
   {
    "duration": 1333,
    "start_time": "2024-12-15T13:50:40.008Z"
   },
   {
    "duration": 15132,
    "start_time": "2024-12-15T13:50:41.343Z"
   },
   {
    "duration": 9501,
    "start_time": "2024-12-15T13:50:56.529Z"
   },
   {
    "duration": 99,
    "start_time": "2024-12-15T13:51:06.033Z"
   },
   {
    "duration": 4436,
    "start_time": "2024-12-15T13:51:06.134Z"
   },
   {
    "duration": 135,
    "start_time": "2024-12-15T13:51:10.630Z"
   },
   {
    "duration": 4512,
    "start_time": "2024-12-15T13:51:10.830Z"
   },
   {
    "duration": 4,
    "start_time": "2024-12-15T13:51:15.344Z"
   },
   {
    "duration": 1403,
    "start_time": "2024-12-15T13:51:15.349Z"
   },
   {
    "duration": 2553,
    "start_time": "2024-12-15T13:51:16.755Z"
   },
   {
    "duration": 51,
    "start_time": "2024-12-15T13:51:19.310Z"
   },
   {
    "duration": 1270,
    "start_time": "2024-12-15T13:51:19.363Z"
   },
   {
    "duration": 495,
    "start_time": "2024-12-15T13:51:20.635Z"
   },
   {
    "duration": 3922,
    "start_time": "2024-12-15T13:51:21.132Z"
   },
   {
    "duration": 106,
    "start_time": "2024-12-15T13:51:25.055Z"
   },
   {
    "duration": 4999,
    "start_time": "2024-12-15T13:51:25.163Z"
   },
   {
    "duration": 86,
    "start_time": "2024-12-15T13:51:30.163Z"
   },
   {
    "duration": 83,
    "start_time": "2024-12-15T13:51:30.251Z"
   },
   {
    "duration": 2856,
    "start_time": "2024-12-15T13:51:30.336Z"
   },
   {
    "duration": 49,
    "start_time": "2024-12-15T13:51:33.194Z"
   },
   {
    "duration": 1367,
    "start_time": "2024-12-15T14:48:44.095Z"
   },
   {
    "duration": 15578,
    "start_time": "2024-12-15T14:48:45.464Z"
   },
   {
    "duration": 8902,
    "start_time": "2024-12-15T14:49:01.044Z"
   },
   {
    "duration": 90,
    "start_time": "2024-12-15T14:49:09.949Z"
   },
   {
    "duration": 4615,
    "start_time": "2024-12-15T14:49:10.041Z"
   },
   {
    "duration": 205,
    "start_time": "2024-12-15T14:49:14.657Z"
   },
   {
    "duration": 4505,
    "start_time": "2024-12-15T14:49:14.864Z"
   },
   {
    "duration": 61,
    "start_time": "2024-12-15T14:49:19.370Z"
   },
   {
    "duration": 1431,
    "start_time": "2024-12-15T14:49:19.433Z"
   },
   {
    "duration": 2527,
    "start_time": "2024-12-15T14:49:20.867Z"
   },
   {
    "duration": 62,
    "start_time": "2024-12-15T14:49:23.396Z"
   },
   {
    "duration": 1299,
    "start_time": "2024-12-15T14:49:23.459Z"
   },
   {
    "duration": 490,
    "start_time": "2024-12-15T14:49:24.760Z"
   },
   {
    "duration": 3215,
    "start_time": "2024-12-15T14:49:25.252Z"
   },
   {
    "duration": 99,
    "start_time": "2024-12-15T14:49:28.468Z"
   },
   {
    "duration": 4266,
    "start_time": "2024-12-15T14:49:28.569Z"
   },
   {
    "duration": 20,
    "start_time": "2024-12-15T14:49:32.837Z"
   },
   {
    "duration": 72,
    "start_time": "2024-12-15T14:49:32.859Z"
   },
   {
    "duration": 3397,
    "start_time": "2024-12-15T14:49:32.933Z"
   },
   {
    "duration": 25,
    "start_time": "2024-12-15T14:49:36.332Z"
   },
   {
    "duration": 9,
    "start_time": "2024-12-15T14:56:20.582Z"
   },
   {
    "duration": 956,
    "start_time": "2024-12-15T14:58:18.574Z"
   },
   {
    "duration": 705,
    "start_time": "2024-12-15T14:59:33.190Z"
   },
   {
    "duration": 688,
    "start_time": "2024-12-15T15:03:39.866Z"
   },
   {
    "duration": 630,
    "start_time": "2024-12-15T15:04:27.804Z"
   },
   {
    "duration": 630,
    "start_time": "2024-12-15T15:07:10.007Z"
   },
   {
    "duration": 683,
    "start_time": "2024-12-15T15:07:46.167Z"
   },
   {
    "duration": 1303,
    "start_time": "2024-12-15T15:14:31.148Z"
   },
   {
    "duration": 15603,
    "start_time": "2024-12-15T15:14:32.453Z"
   },
   {
    "duration": 9083,
    "start_time": "2024-12-15T15:14:48.061Z"
   },
   {
    "duration": 94,
    "start_time": "2024-12-15T15:14:57.147Z"
   },
   {
    "duration": 4689,
    "start_time": "2024-12-15T15:14:57.243Z"
   },
   {
    "duration": 306,
    "start_time": "2024-12-15T15:15:01.934Z"
   },
   {
    "duration": 4519,
    "start_time": "2024-12-15T15:15:02.242Z"
   },
   {
    "duration": 4,
    "start_time": "2024-12-15T15:15:06.762Z"
   },
   {
    "duration": 1286,
    "start_time": "2024-12-15T15:15:06.768Z"
   },
   {
    "duration": 2610,
    "start_time": "2024-12-15T15:15:08.055Z"
   },
   {
    "duration": 73,
    "start_time": "2024-12-15T15:15:10.666Z"
   },
   {
    "duration": 1299,
    "start_time": "2024-12-15T15:15:10.741Z"
   },
   {
    "duration": 597,
    "start_time": "2024-12-15T15:15:12.042Z"
   },
   {
    "duration": 2892,
    "start_time": "2024-12-15T15:15:12.641Z"
   },
   {
    "duration": 100,
    "start_time": "2024-12-15T15:15:15.535Z"
   },
   {
    "duration": 5099,
    "start_time": "2024-12-15T15:15:15.637Z"
   },
   {
    "duration": 20,
    "start_time": "2024-12-15T15:15:20.738Z"
   },
   {
    "duration": 74,
    "start_time": "2024-12-15T15:15:20.759Z"
   },
   {
    "duration": 3406,
    "start_time": "2024-12-15T15:15:20.835Z"
   },
   {
    "duration": 18,
    "start_time": "2024-12-15T15:15:24.242Z"
   },
   {
    "duration": 71,
    "start_time": "2024-12-15T15:15:24.262Z"
   },
   {
    "duration": 837,
    "start_time": "2024-12-15T15:15:24.335Z"
   },
   {
    "duration": 913,
    "start_time": "2024-12-15T15:15:25.174Z"
   },
   {
    "duration": 647,
    "start_time": "2024-12-15T15:15:26.089Z"
   },
   {
    "duration": 709,
    "start_time": "2024-12-15T15:15:26.738Z"
   },
   {
    "duration": 715,
    "start_time": "2024-12-15T15:15:27.448Z"
   },
   {
    "duration": 719,
    "start_time": "2024-12-15T15:15:28.166Z"
   },
   {
    "duration": 1441,
    "start_time": "2024-12-17T18:05:38.059Z"
   },
   {
    "duration": 14547,
    "start_time": "2024-12-17T18:05:39.502Z"
   },
   {
    "duration": 8291,
    "start_time": "2024-12-17T18:05:54.051Z"
   },
   {
    "duration": 95,
    "start_time": "2024-12-17T18:06:02.344Z"
   },
   {
    "duration": 4282,
    "start_time": "2024-12-17T18:06:02.441Z"
   },
   {
    "duration": 203,
    "start_time": "2024-12-17T18:06:06.725Z"
   },
   {
    "duration": 4524,
    "start_time": "2024-12-17T18:06:06.930Z"
   },
   {
    "duration": 3,
    "start_time": "2024-12-17T18:06:11.456Z"
   },
   {
    "duration": 1580,
    "start_time": "2024-12-17T18:06:11.460Z"
   },
   {
    "duration": 1592,
    "start_time": "2024-12-17T18:06:13.043Z"
   },
   {
    "duration": 2587,
    "start_time": "2024-12-17T18:06:14.637Z"
   },
   {
    "duration": 96,
    "start_time": "2024-12-17T18:06:17.226Z"
   },
   {
    "duration": 1323,
    "start_time": "2024-12-17T18:06:17.324Z"
   },
   {
    "duration": 875,
    "start_time": "2024-12-17T18:06:18.649Z"
   },
   {
    "duration": 94,
    "start_time": "2024-12-17T18:06:19.526Z"
   },
   {
    "duration": 3397,
    "start_time": "2024-12-17T18:06:19.622Z"
   },
   {
    "duration": 356,
    "start_time": "2024-12-17T18:06:23.021Z"
   },
   {
    "duration": 0,
    "start_time": "2024-12-17T18:06:23.414Z"
   },
   {
    "duration": 0,
    "start_time": "2024-12-17T18:06:23.416Z"
   },
   {
    "duration": 0,
    "start_time": "2024-12-17T18:06:23.417Z"
   },
   {
    "duration": 0,
    "start_time": "2024-12-17T18:06:23.418Z"
   },
   {
    "duration": 0,
    "start_time": "2024-12-17T18:06:23.420Z"
   },
   {
    "duration": 0,
    "start_time": "2024-12-17T18:06:23.421Z"
   },
   {
    "duration": 0,
    "start_time": "2024-12-17T18:06:23.422Z"
   },
   {
    "duration": 0,
    "start_time": "2024-12-17T18:06:23.423Z"
   },
   {
    "duration": 0,
    "start_time": "2024-12-17T18:06:23.424Z"
   },
   {
    "duration": 0,
    "start_time": "2024-12-17T18:06:23.425Z"
   },
   {
    "duration": 0,
    "start_time": "2024-12-17T18:06:23.426Z"
   },
   {
    "duration": 1267,
    "start_time": "2024-12-17T18:11:58.655Z"
   },
   {
    "duration": 15102,
    "start_time": "2024-12-17T18:11:59.924Z"
   },
   {
    "duration": 8705,
    "start_time": "2024-12-17T18:12:15.028Z"
   },
   {
    "duration": 92,
    "start_time": "2024-12-17T18:12:23.735Z"
   },
   {
    "duration": 4403,
    "start_time": "2024-12-17T18:12:23.829Z"
   },
   {
    "duration": 191,
    "start_time": "2024-12-17T18:12:28.233Z"
   },
   {
    "duration": 4596,
    "start_time": "2024-12-17T18:12:28.426Z"
   },
   {
    "duration": 3,
    "start_time": "2024-12-17T18:12:33.024Z"
   },
   {
    "duration": 1696,
    "start_time": "2024-12-17T18:12:33.028Z"
   },
   {
    "duration": 1889,
    "start_time": "2024-12-17T18:12:34.727Z"
   },
   {
    "duration": 535,
    "start_time": "2024-12-17T18:12:36.618Z"
   },
   {
    "duration": 0,
    "start_time": "2024-12-17T18:12:37.154Z"
   },
   {
    "duration": 0,
    "start_time": "2024-12-17T18:12:37.156Z"
   },
   {
    "duration": 0,
    "start_time": "2024-12-17T18:12:37.157Z"
   },
   {
    "duration": 0,
    "start_time": "2024-12-17T18:12:37.158Z"
   },
   {
    "duration": 0,
    "start_time": "2024-12-17T18:12:37.159Z"
   },
   {
    "duration": 0,
    "start_time": "2024-12-17T18:12:37.160Z"
   },
   {
    "duration": 0,
    "start_time": "2024-12-17T18:12:37.161Z"
   },
   {
    "duration": 0,
    "start_time": "2024-12-17T18:12:37.162Z"
   },
   {
    "duration": 0,
    "start_time": "2024-12-17T18:12:37.163Z"
   },
   {
    "duration": 0,
    "start_time": "2024-12-17T18:12:37.164Z"
   },
   {
    "duration": 0,
    "start_time": "2024-12-17T18:12:37.165Z"
   },
   {
    "duration": 0,
    "start_time": "2024-12-17T18:12:37.167Z"
   },
   {
    "duration": 0,
    "start_time": "2024-12-17T18:12:37.168Z"
   },
   {
    "duration": 0,
    "start_time": "2024-12-17T18:12:37.169Z"
   },
   {
    "duration": 0,
    "start_time": "2024-12-17T18:12:37.170Z"
   },
   {
    "duration": 0,
    "start_time": "2024-12-17T18:12:37.171Z"
   },
   {
    "duration": 0,
    "start_time": "2024-12-17T18:12:37.172Z"
   },
   {
    "duration": 1332,
    "start_time": "2024-12-17T18:15:20.805Z"
   },
   {
    "duration": 15220,
    "start_time": "2024-12-17T18:15:22.139Z"
   },
   {
    "duration": 8331,
    "start_time": "2024-12-17T18:15:37.416Z"
   },
   {
    "duration": 95,
    "start_time": "2024-12-17T18:15:45.749Z"
   },
   {
    "duration": 4400,
    "start_time": "2024-12-17T18:15:45.847Z"
   },
   {
    "duration": 279,
    "start_time": "2024-12-17T18:15:50.249Z"
   },
   {
    "duration": 4740,
    "start_time": "2024-12-17T18:15:50.530Z"
   },
   {
    "duration": 3,
    "start_time": "2024-12-17T18:15:55.315Z"
   },
   {
    "duration": 1625,
    "start_time": "2024-12-17T18:15:55.320Z"
   },
   {
    "duration": 1574,
    "start_time": "2024-12-17T18:15:56.947Z"
   },
   {
    "duration": 444,
    "start_time": "2024-12-17T18:15:58.523Z"
   },
   {
    "duration": 0,
    "start_time": "2024-12-17T18:15:58.971Z"
   },
   {
    "duration": 0,
    "start_time": "2024-12-17T18:15:58.973Z"
   },
   {
    "duration": 0,
    "start_time": "2024-12-17T18:15:58.974Z"
   },
   {
    "duration": 0,
    "start_time": "2024-12-17T18:15:58.975Z"
   },
   {
    "duration": 0,
    "start_time": "2024-12-17T18:15:58.976Z"
   },
   {
    "duration": 0,
    "start_time": "2024-12-17T18:15:58.977Z"
   },
   {
    "duration": 0,
    "start_time": "2024-12-17T18:15:58.978Z"
   },
   {
    "duration": 0,
    "start_time": "2024-12-17T18:15:58.979Z"
   },
   {
    "duration": 0,
    "start_time": "2024-12-17T18:15:58.980Z"
   },
   {
    "duration": 0,
    "start_time": "2024-12-17T18:15:58.981Z"
   },
   {
    "duration": 0,
    "start_time": "2024-12-17T18:15:58.982Z"
   },
   {
    "duration": 0,
    "start_time": "2024-12-17T18:15:58.983Z"
   },
   {
    "duration": 0,
    "start_time": "2024-12-17T18:15:58.984Z"
   },
   {
    "duration": 0,
    "start_time": "2024-12-17T18:15:58.985Z"
   },
   {
    "duration": 0,
    "start_time": "2024-12-17T18:15:58.986Z"
   },
   {
    "duration": 0,
    "start_time": "2024-12-17T18:15:58.987Z"
   },
   {
    "duration": 0,
    "start_time": "2024-12-17T18:15:58.988Z"
   },
   {
    "duration": 1354,
    "start_time": "2024-12-17T18:19:14.091Z"
   },
   {
    "duration": 15373,
    "start_time": "2024-12-17T18:19:15.447Z"
   },
   {
    "duration": 8804,
    "start_time": "2024-12-17T18:19:30.822Z"
   },
   {
    "duration": 87,
    "start_time": "2024-12-17T18:19:39.628Z"
   },
   {
    "duration": 4128,
    "start_time": "2024-12-17T18:19:39.717Z"
   },
   {
    "duration": 202,
    "start_time": "2024-12-17T18:19:43.847Z"
   },
   {
    "duration": 4430,
    "start_time": "2024-12-17T18:19:44.116Z"
   },
   {
    "duration": 3,
    "start_time": "2024-12-17T18:19:48.548Z"
   },
   {
    "duration": 1582,
    "start_time": "2024-12-17T18:19:48.553Z"
   },
   {
    "duration": 1882,
    "start_time": "2024-12-17T18:19:50.138Z"
   },
   {
    "duration": 357,
    "start_time": "2024-12-17T18:19:52.022Z"
   },
   {
    "duration": 0,
    "start_time": "2024-12-17T18:19:52.381Z"
   },
   {
    "duration": 0,
    "start_time": "2024-12-17T18:19:52.382Z"
   },
   {
    "duration": 0,
    "start_time": "2024-12-17T18:19:52.384Z"
   },
   {
    "duration": 0,
    "start_time": "2024-12-17T18:19:52.385Z"
   },
   {
    "duration": 0,
    "start_time": "2024-12-17T18:19:52.414Z"
   },
   {
    "duration": 0,
    "start_time": "2024-12-17T18:19:52.416Z"
   },
   {
    "duration": 0,
    "start_time": "2024-12-17T18:19:52.417Z"
   },
   {
    "duration": 0,
    "start_time": "2024-12-17T18:19:52.418Z"
   },
   {
    "duration": 0,
    "start_time": "2024-12-17T18:19:52.419Z"
   },
   {
    "duration": 0,
    "start_time": "2024-12-17T18:19:52.421Z"
   },
   {
    "duration": 0,
    "start_time": "2024-12-17T18:19:52.424Z"
   },
   {
    "duration": 0,
    "start_time": "2024-12-17T18:19:52.426Z"
   },
   {
    "duration": 0,
    "start_time": "2024-12-17T18:19:52.427Z"
   },
   {
    "duration": 0,
    "start_time": "2024-12-17T18:19:52.428Z"
   },
   {
    "duration": 0,
    "start_time": "2024-12-17T18:19:52.429Z"
   },
   {
    "duration": 0,
    "start_time": "2024-12-17T18:19:52.430Z"
   },
   {
    "duration": 0,
    "start_time": "2024-12-17T18:19:52.431Z"
   },
   {
    "duration": 1294,
    "start_time": "2024-12-17T18:21:59.641Z"
   },
   {
    "duration": 15104,
    "start_time": "2024-12-17T18:22:00.938Z"
   },
   {
    "duration": 8700,
    "start_time": "2024-12-17T18:22:16.044Z"
   },
   {
    "duration": 92,
    "start_time": "2024-12-17T18:22:24.746Z"
   },
   {
    "duration": 4294,
    "start_time": "2024-12-17T18:22:24.840Z"
   },
   {
    "duration": 207,
    "start_time": "2024-12-17T18:22:29.136Z"
   },
   {
    "duration": 4670,
    "start_time": "2024-12-17T18:22:29.345Z"
   },
   {
    "duration": 3,
    "start_time": "2024-12-17T18:22:34.017Z"
   },
   {
    "duration": 1800,
    "start_time": "2024-12-17T18:22:34.022Z"
   },
   {
    "duration": 1612,
    "start_time": "2024-12-17T18:22:35.825Z"
   },
   {
    "duration": 1795,
    "start_time": "2024-12-17T18:22:37.439Z"
   },
   {
    "duration": 0,
    "start_time": "2024-12-17T18:22:39.236Z"
   },
   {
    "duration": 0,
    "start_time": "2024-12-17T18:22:39.237Z"
   },
   {
    "duration": 0,
    "start_time": "2024-12-17T18:22:39.238Z"
   },
   {
    "duration": 0,
    "start_time": "2024-12-17T18:22:39.239Z"
   },
   {
    "duration": 0,
    "start_time": "2024-12-17T18:22:39.240Z"
   },
   {
    "duration": 0,
    "start_time": "2024-12-17T18:22:39.241Z"
   },
   {
    "duration": 0,
    "start_time": "2024-12-17T18:22:39.242Z"
   },
   {
    "duration": 0,
    "start_time": "2024-12-17T18:22:39.243Z"
   },
   {
    "duration": 0,
    "start_time": "2024-12-17T18:22:39.244Z"
   },
   {
    "duration": 0,
    "start_time": "2024-12-17T18:22:39.245Z"
   },
   {
    "duration": 0,
    "start_time": "2024-12-17T18:22:39.246Z"
   },
   {
    "duration": 0,
    "start_time": "2024-12-17T18:22:39.247Z"
   },
   {
    "duration": 0,
    "start_time": "2024-12-17T18:22:39.248Z"
   },
   {
    "duration": 0,
    "start_time": "2024-12-17T18:22:39.249Z"
   },
   {
    "duration": 0,
    "start_time": "2024-12-17T18:22:39.250Z"
   },
   {
    "duration": 0,
    "start_time": "2024-12-17T18:22:39.250Z"
   },
   {
    "duration": 0,
    "start_time": "2024-12-17T18:22:39.251Z"
   },
   {
    "duration": 125,
    "start_time": "2024-12-17T18:24:16.528Z"
   },
   {
    "duration": 1295,
    "start_time": "2024-12-17T18:24:27.421Z"
   },
   {
    "duration": 15124,
    "start_time": "2024-12-17T18:24:28.717Z"
   },
   {
    "duration": 8301,
    "start_time": "2024-12-17T18:24:43.843Z"
   },
   {
    "duration": 100,
    "start_time": "2024-12-17T18:24:52.146Z"
   },
   {
    "duration": 4276,
    "start_time": "2024-12-17T18:24:52.248Z"
   },
   {
    "duration": 211,
    "start_time": "2024-12-17T18:24:56.526Z"
   },
   {
    "duration": 4711,
    "start_time": "2024-12-17T18:24:56.739Z"
   },
   {
    "duration": 4,
    "start_time": "2024-12-17T18:25:01.516Z"
   },
   {
    "duration": 1614,
    "start_time": "2024-12-17T18:25:01.521Z"
   },
   {
    "duration": 1500,
    "start_time": "2024-12-17T18:25:03.139Z"
   },
   {
    "duration": 2078,
    "start_time": "2024-12-17T18:25:04.641Z"
   },
   {
    "duration": 0,
    "start_time": "2024-12-17T18:25:06.721Z"
   },
   {
    "duration": 0,
    "start_time": "2024-12-17T18:25:06.722Z"
   },
   {
    "duration": 0,
    "start_time": "2024-12-17T18:25:06.723Z"
   },
   {
    "duration": 0,
    "start_time": "2024-12-17T18:25:06.725Z"
   },
   {
    "duration": 0,
    "start_time": "2024-12-17T18:25:06.726Z"
   },
   {
    "duration": 0,
    "start_time": "2024-12-17T18:25:06.727Z"
   },
   {
    "duration": 0,
    "start_time": "2024-12-17T18:25:06.729Z"
   },
   {
    "duration": 0,
    "start_time": "2024-12-17T18:25:06.730Z"
   },
   {
    "duration": 0,
    "start_time": "2024-12-17T18:25:06.731Z"
   },
   {
    "duration": 0,
    "start_time": "2024-12-17T18:25:06.733Z"
   },
   {
    "duration": 0,
    "start_time": "2024-12-17T18:25:06.734Z"
   },
   {
    "duration": 0,
    "start_time": "2024-12-17T18:25:06.735Z"
   },
   {
    "duration": 0,
    "start_time": "2024-12-17T18:25:06.736Z"
   },
   {
    "duration": 0,
    "start_time": "2024-12-17T18:25:06.737Z"
   },
   {
    "duration": 0,
    "start_time": "2024-12-17T18:25:06.739Z"
   },
   {
    "duration": 0,
    "start_time": "2024-12-17T18:25:06.740Z"
   },
   {
    "duration": 0,
    "start_time": "2024-12-17T18:25:06.741Z"
   },
   {
    "duration": 1266,
    "start_time": "2024-12-17T18:25:24.662Z"
   },
   {
    "duration": 15419,
    "start_time": "2024-12-17T18:25:25.930Z"
   },
   {
    "duration": 8067,
    "start_time": "2024-12-17T18:25:41.352Z"
   },
   {
    "duration": 32,
    "start_time": "2024-12-17T18:25:49.422Z"
   },
   {
    "duration": 4290,
    "start_time": "2024-12-17T18:25:49.455Z"
   },
   {
    "duration": 188,
    "start_time": "2024-12-17T18:25:53.748Z"
   },
   {
    "duration": 4883,
    "start_time": "2024-12-17T18:25:53.939Z"
   },
   {
    "duration": 4,
    "start_time": "2024-12-17T18:25:58.824Z"
   },
   {
    "duration": 1686,
    "start_time": "2024-12-17T18:25:58.829Z"
   },
   {
    "duration": 1528,
    "start_time": "2024-12-17T18:26:00.518Z"
   },
   {
    "duration": 1680,
    "start_time": "2024-12-17T18:26:02.048Z"
   },
   {
    "duration": 0,
    "start_time": "2024-12-17T18:26:03.730Z"
   },
   {
    "duration": 0,
    "start_time": "2024-12-17T18:26:03.731Z"
   },
   {
    "duration": 1,
    "start_time": "2024-12-17T18:26:03.732Z"
   },
   {
    "duration": 0,
    "start_time": "2024-12-17T18:26:03.734Z"
   },
   {
    "duration": 0,
    "start_time": "2024-12-17T18:26:03.735Z"
   },
   {
    "duration": 0,
    "start_time": "2024-12-17T18:26:03.736Z"
   },
   {
    "duration": 0,
    "start_time": "2024-12-17T18:26:03.737Z"
   },
   {
    "duration": 0,
    "start_time": "2024-12-17T18:26:03.738Z"
   },
   {
    "duration": 0,
    "start_time": "2024-12-17T18:26:03.739Z"
   },
   {
    "duration": 0,
    "start_time": "2024-12-17T18:26:03.740Z"
   },
   {
    "duration": 0,
    "start_time": "2024-12-17T18:26:03.742Z"
   },
   {
    "duration": 0,
    "start_time": "2024-12-17T18:26:03.743Z"
   },
   {
    "duration": 0,
    "start_time": "2024-12-17T18:26:03.744Z"
   },
   {
    "duration": 0,
    "start_time": "2024-12-17T18:26:03.745Z"
   },
   {
    "duration": 0,
    "start_time": "2024-12-17T18:26:03.747Z"
   },
   {
    "duration": 0,
    "start_time": "2024-12-17T18:26:03.748Z"
   },
   {
    "duration": 0,
    "start_time": "2024-12-17T18:26:03.749Z"
   },
   {
    "duration": 1339,
    "start_time": "2024-12-17T18:28:19.984Z"
   },
   {
    "duration": 15422,
    "start_time": "2024-12-17T18:28:21.325Z"
   },
   {
    "duration": 8182,
    "start_time": "2024-12-17T18:28:36.750Z"
   },
   {
    "duration": 96,
    "start_time": "2024-12-17T18:28:44.935Z"
   },
   {
    "duration": 4302,
    "start_time": "2024-12-17T18:28:45.033Z"
   },
   {
    "duration": 194,
    "start_time": "2024-12-17T18:28:49.337Z"
   },
   {
    "duration": 4698,
    "start_time": "2024-12-17T18:28:49.533Z"
   },
   {
    "duration": 3,
    "start_time": "2024-12-17T18:28:54.233Z"
   },
   {
    "duration": 1781,
    "start_time": "2024-12-17T18:28:54.238Z"
   },
   {
    "duration": 1710,
    "start_time": "2024-12-17T18:28:56.022Z"
   },
   {
    "duration": 286,
    "start_time": "2024-12-17T18:28:57.734Z"
   },
   {
    "duration": 94,
    "start_time": "2024-12-17T18:28:58.021Z"
   },
   {
    "duration": 1222,
    "start_time": "2024-12-17T18:28:58.117Z"
   },
   {
    "duration": 487,
    "start_time": "2024-12-17T18:28:59.341Z"
   },
   {
    "duration": 99,
    "start_time": "2024-12-17T18:28:59.829Z"
   },
   {
    "duration": 1793,
    "start_time": "2024-12-17T18:28:59.930Z"
   },
   {
    "duration": 0,
    "start_time": "2024-12-17T18:29:01.725Z"
   },
   {
    "duration": 0,
    "start_time": "2024-12-17T18:29:01.727Z"
   },
   {
    "duration": 0,
    "start_time": "2024-12-17T18:29:01.729Z"
   },
   {
    "duration": 0,
    "start_time": "2024-12-17T18:29:01.730Z"
   },
   {
    "duration": 0,
    "start_time": "2024-12-17T18:29:01.731Z"
   },
   {
    "duration": 0,
    "start_time": "2024-12-17T18:29:01.732Z"
   },
   {
    "duration": 0,
    "start_time": "2024-12-17T18:29:01.733Z"
   },
   {
    "duration": 0,
    "start_time": "2024-12-17T18:29:01.737Z"
   },
   {
    "duration": 0,
    "start_time": "2024-12-17T18:29:01.738Z"
   },
   {
    "duration": 0,
    "start_time": "2024-12-17T18:29:01.740Z"
   },
   {
    "duration": 0,
    "start_time": "2024-12-17T18:29:01.741Z"
   },
   {
    "duration": 0,
    "start_time": "2024-12-17T18:29:01.743Z"
   },
   {
    "duration": 1255,
    "start_time": "2024-12-17T18:34:18.467Z"
   },
   {
    "duration": 15425,
    "start_time": "2024-12-17T18:34:19.724Z"
   },
   {
    "duration": 8764,
    "start_time": "2024-12-17T18:34:35.151Z"
   },
   {
    "duration": 109,
    "start_time": "2024-12-17T18:34:43.917Z"
   },
   {
    "duration": 4596,
    "start_time": "2024-12-17T18:34:44.028Z"
   },
   {
    "duration": 202,
    "start_time": "2024-12-17T18:34:48.626Z"
   },
   {
    "duration": 4403,
    "start_time": "2024-12-17T18:34:48.830Z"
   },
   {
    "duration": 3,
    "start_time": "2024-12-17T18:34:53.234Z"
   },
   {
    "duration": 1690,
    "start_time": "2024-12-17T18:34:53.239Z"
   },
   {
    "duration": 1485,
    "start_time": "2024-12-17T18:34:54.931Z"
   },
   {
    "duration": 323,
    "start_time": "2024-12-17T18:34:56.417Z"
   },
   {
    "duration": 0,
    "start_time": "2024-12-17T18:34:56.743Z"
   },
   {
    "duration": 0,
    "start_time": "2024-12-17T18:34:56.744Z"
   },
   {
    "duration": 0,
    "start_time": "2024-12-17T18:34:56.746Z"
   },
   {
    "duration": 0,
    "start_time": "2024-12-17T18:34:56.747Z"
   },
   {
    "duration": 0,
    "start_time": "2024-12-17T18:34:56.751Z"
   },
   {
    "duration": 0,
    "start_time": "2024-12-17T18:34:56.752Z"
   },
   {
    "duration": 0,
    "start_time": "2024-12-17T18:34:56.753Z"
   },
   {
    "duration": 0,
    "start_time": "2024-12-17T18:34:56.814Z"
   },
   {
    "duration": 0,
    "start_time": "2024-12-17T18:34:56.816Z"
   },
   {
    "duration": 0,
    "start_time": "2024-12-17T18:34:56.817Z"
   },
   {
    "duration": 0,
    "start_time": "2024-12-17T18:34:56.818Z"
   },
   {
    "duration": 0,
    "start_time": "2024-12-17T18:34:56.819Z"
   },
   {
    "duration": 0,
    "start_time": "2024-12-17T18:34:56.820Z"
   },
   {
    "duration": 0,
    "start_time": "2024-12-17T18:34:56.821Z"
   },
   {
    "duration": 0,
    "start_time": "2024-12-17T18:34:56.822Z"
   },
   {
    "duration": 0,
    "start_time": "2024-12-17T18:34:56.823Z"
   },
   {
    "duration": 0,
    "start_time": "2024-12-17T18:34:56.824Z"
   },
   {
    "duration": 1301,
    "start_time": "2024-12-17T18:36:32.714Z"
   },
   {
    "duration": 15515,
    "start_time": "2024-12-17T18:36:34.017Z"
   },
   {
    "duration": 9005,
    "start_time": "2024-12-17T18:36:49.534Z"
   },
   {
    "duration": 91,
    "start_time": "2024-12-17T18:36:58.541Z"
   },
   {
    "duration": 4294,
    "start_time": "2024-12-17T18:36:58.634Z"
   },
   {
    "duration": 198,
    "start_time": "2024-12-17T18:37:02.930Z"
   },
   {
    "duration": 4793,
    "start_time": "2024-12-17T18:37:03.130Z"
   },
   {
    "duration": 3,
    "start_time": "2024-12-17T18:37:07.925Z"
   },
   {
    "duration": 1607,
    "start_time": "2024-12-17T18:37:07.930Z"
   },
   {
    "duration": 1599,
    "start_time": "2024-12-17T18:37:09.539Z"
   },
   {
    "duration": 276,
    "start_time": "2024-12-17T18:37:11.140Z"
   },
   {
    "duration": 0,
    "start_time": "2024-12-17T18:37:11.419Z"
   },
   {
    "duration": 0,
    "start_time": "2024-12-17T18:37:11.420Z"
   },
   {
    "duration": 0,
    "start_time": "2024-12-17T18:37:11.421Z"
   },
   {
    "duration": 0,
    "start_time": "2024-12-17T18:37:11.423Z"
   },
   {
    "duration": 0,
    "start_time": "2024-12-17T18:37:11.424Z"
   },
   {
    "duration": 0,
    "start_time": "2024-12-17T18:37:11.426Z"
   },
   {
    "duration": 0,
    "start_time": "2024-12-17T18:37:11.427Z"
   },
   {
    "duration": 0,
    "start_time": "2024-12-17T18:37:11.428Z"
   },
   {
    "duration": 0,
    "start_time": "2024-12-17T18:37:11.429Z"
   },
   {
    "duration": 0,
    "start_time": "2024-12-17T18:37:11.430Z"
   },
   {
    "duration": 1,
    "start_time": "2024-12-17T18:37:11.431Z"
   },
   {
    "duration": 0,
    "start_time": "2024-12-17T18:37:11.433Z"
   },
   {
    "duration": 0,
    "start_time": "2024-12-17T18:37:11.433Z"
   },
   {
    "duration": 0,
    "start_time": "2024-12-17T18:37:11.434Z"
   },
   {
    "duration": 0,
    "start_time": "2024-12-17T18:37:11.436Z"
   },
   {
    "duration": 0,
    "start_time": "2024-12-17T18:37:11.436Z"
   },
   {
    "duration": 0,
    "start_time": "2024-12-17T18:37:11.437Z"
   },
   {
    "duration": 1249,
    "start_time": "2024-12-17T18:43:58.773Z"
   },
   {
    "duration": 15335,
    "start_time": "2024-12-17T18:44:00.024Z"
   },
   {
    "duration": 8894,
    "start_time": "2024-12-17T18:44:15.361Z"
   },
   {
    "duration": 33,
    "start_time": "2024-12-17T18:44:24.316Z"
   },
   {
    "duration": 4683,
    "start_time": "2024-12-17T18:44:24.351Z"
   },
   {
    "duration": 192,
    "start_time": "2024-12-17T18:44:29.035Z"
   },
   {
    "duration": 5007,
    "start_time": "2024-12-17T18:44:29.228Z"
   },
   {
    "duration": 4,
    "start_time": "2024-12-17T18:44:34.237Z"
   },
   {
    "duration": 1519,
    "start_time": "2024-12-17T18:44:34.243Z"
   },
   {
    "duration": 1703,
    "start_time": "2024-12-17T18:44:35.817Z"
   },
   {
    "duration": 2424,
    "start_time": "2024-12-17T18:44:37.522Z"
   },
   {
    "duration": 103,
    "start_time": "2024-12-17T18:44:39.948Z"
   },
   {
    "duration": 1335,
    "start_time": "2024-12-17T18:44:40.114Z"
   },
   {
    "duration": 911,
    "start_time": "2024-12-17T18:44:41.514Z"
   },
   {
    "duration": 94,
    "start_time": "2024-12-17T18:44:42.427Z"
   },
   {
    "duration": 3591,
    "start_time": "2024-12-17T18:44:42.524Z"
   },
   {
    "duration": 297,
    "start_time": "2024-12-17T18:44:46.117Z"
   },
   {
    "duration": 0,
    "start_time": "2024-12-17T18:44:46.416Z"
   },
   {
    "duration": 0,
    "start_time": "2024-12-17T18:44:46.417Z"
   },
   {
    "duration": 0,
    "start_time": "2024-12-17T18:44:46.419Z"
   },
   {
    "duration": 0,
    "start_time": "2024-12-17T18:44:46.420Z"
   },
   {
    "duration": 0,
    "start_time": "2024-12-17T18:44:46.422Z"
   },
   {
    "duration": 0,
    "start_time": "2024-12-17T18:44:46.423Z"
   },
   {
    "duration": 0,
    "start_time": "2024-12-17T18:44:46.425Z"
   },
   {
    "duration": 0,
    "start_time": "2024-12-17T18:44:46.426Z"
   },
   {
    "duration": 0,
    "start_time": "2024-12-17T18:44:46.428Z"
   },
   {
    "duration": 0,
    "start_time": "2024-12-17T18:44:46.429Z"
   },
   {
    "duration": 0,
    "start_time": "2024-12-17T18:44:46.431Z"
   },
   {
    "duration": 1338,
    "start_time": "2024-12-17T18:51:39.691Z"
   },
   {
    "duration": 15325,
    "start_time": "2024-12-17T18:51:41.031Z"
   },
   {
    "duration": 9193,
    "start_time": "2024-12-17T18:51:56.358Z"
   },
   {
    "duration": 34,
    "start_time": "2024-12-17T18:52:05.616Z"
   },
   {
    "duration": 4568,
    "start_time": "2024-12-17T18:52:05.652Z"
   },
   {
    "duration": 293,
    "start_time": "2024-12-17T18:52:10.222Z"
   },
   {
    "duration": 4605,
    "start_time": "2024-12-17T18:52:10.517Z"
   },
   {
    "duration": 3,
    "start_time": "2024-12-17T18:52:15.123Z"
   },
   {
    "duration": 1997,
    "start_time": "2024-12-17T18:52:15.127Z"
   },
   {
    "duration": 1703,
    "start_time": "2024-12-17T18:52:17.128Z"
   },
   {
    "duration": 2394,
    "start_time": "2024-12-17T18:52:18.833Z"
   },
   {
    "duration": 98,
    "start_time": "2024-12-17T18:52:21.229Z"
   },
   {
    "duration": 1410,
    "start_time": "2024-12-17T18:52:21.328Z"
   },
   {
    "duration": 776,
    "start_time": "2024-12-17T18:52:22.739Z"
   },
   {
    "duration": 38,
    "start_time": "2024-12-17T18:52:23.517Z"
   },
   {
    "duration": 3182,
    "start_time": "2024-12-17T18:52:23.556Z"
   },
   {
    "duration": 324,
    "start_time": "2024-12-17T18:52:26.740Z"
   },
   {
    "duration": 0,
    "start_time": "2024-12-17T18:52:27.067Z"
   },
   {
    "duration": 0,
    "start_time": "2024-12-17T18:52:27.068Z"
   },
   {
    "duration": 0,
    "start_time": "2024-12-17T18:52:27.069Z"
   },
   {
    "duration": 0,
    "start_time": "2024-12-17T18:52:27.070Z"
   },
   {
    "duration": 0,
    "start_time": "2024-12-17T18:52:27.071Z"
   },
   {
    "duration": 0,
    "start_time": "2024-12-17T18:52:27.073Z"
   },
   {
    "duration": 0,
    "start_time": "2024-12-17T18:52:27.074Z"
   },
   {
    "duration": 0,
    "start_time": "2024-12-17T18:52:27.075Z"
   },
   {
    "duration": 0,
    "start_time": "2024-12-17T18:52:27.076Z"
   },
   {
    "duration": 0,
    "start_time": "2024-12-17T18:52:27.078Z"
   },
   {
    "duration": 0,
    "start_time": "2024-12-17T18:52:27.081Z"
   },
   {
    "duration": 1321,
    "start_time": "2024-12-17T19:00:01.905Z"
   },
   {
    "duration": 15689,
    "start_time": "2024-12-17T19:00:03.228Z"
   },
   {
    "duration": 8836,
    "start_time": "2024-12-17T19:00:18.919Z"
   },
   {
    "duration": 36,
    "start_time": "2024-12-17T19:00:27.816Z"
   },
   {
    "duration": 4373,
    "start_time": "2024-12-17T19:00:27.854Z"
   },
   {
    "duration": 193,
    "start_time": "2024-12-17T19:00:32.228Z"
   },
   {
    "duration": 4708,
    "start_time": "2024-12-17T19:00:32.422Z"
   },
   {
    "duration": 3,
    "start_time": "2024-12-17T19:00:37.133Z"
   },
   {
    "duration": 1687,
    "start_time": "2024-12-17T19:00:37.137Z"
   },
   {
    "duration": 1799,
    "start_time": "2024-12-17T19:00:38.828Z"
   },
   {
    "duration": 0,
    "start_time": "2024-12-17T19:00:40.629Z"
   },
   {
    "duration": 0,
    "start_time": "2024-12-17T19:00:40.631Z"
   },
   {
    "duration": 0,
    "start_time": "2024-12-17T19:00:40.633Z"
   },
   {
    "duration": 0,
    "start_time": "2024-12-17T19:00:40.634Z"
   },
   {
    "duration": 0,
    "start_time": "2024-12-17T19:00:40.636Z"
   },
   {
    "duration": 0,
    "start_time": "2024-12-17T19:00:40.638Z"
   },
   {
    "duration": 0,
    "start_time": "2024-12-17T19:00:40.639Z"
   },
   {
    "duration": 0,
    "start_time": "2024-12-17T19:00:40.641Z"
   },
   {
    "duration": 0,
    "start_time": "2024-12-17T19:00:40.642Z"
   },
   {
    "duration": 0,
    "start_time": "2024-12-17T19:00:40.644Z"
   },
   {
    "duration": 0,
    "start_time": "2024-12-17T19:00:40.645Z"
   },
   {
    "duration": 0,
    "start_time": "2024-12-17T19:00:40.647Z"
   },
   {
    "duration": 0,
    "start_time": "2024-12-17T19:00:40.649Z"
   },
   {
    "duration": 0,
    "start_time": "2024-12-17T19:00:40.650Z"
   },
   {
    "duration": 0,
    "start_time": "2024-12-17T19:00:40.652Z"
   },
   {
    "duration": 0,
    "start_time": "2024-12-17T19:00:40.654Z"
   },
   {
    "duration": 0,
    "start_time": "2024-12-17T19:00:40.655Z"
   },
   {
    "duration": 0,
    "start_time": "2024-12-17T19:00:40.656Z"
   },
   {
    "duration": 1287,
    "start_time": "2024-12-17T19:06:42.937Z"
   },
   {
    "duration": 15490,
    "start_time": "2024-12-17T19:06:44.227Z"
   },
   {
    "duration": 8439,
    "start_time": "2024-12-17T19:06:59.719Z"
   },
   {
    "duration": 36,
    "start_time": "2024-12-17T19:07:08.217Z"
   },
   {
    "duration": 4523,
    "start_time": "2024-12-17T19:07:08.315Z"
   },
   {
    "duration": 194,
    "start_time": "2024-12-17T19:07:12.840Z"
   },
   {
    "duration": 4433,
    "start_time": "2024-12-17T19:07:13.036Z"
   },
   {
    "duration": 3,
    "start_time": "2024-12-17T19:07:17.471Z"
   },
   {
    "duration": 1574,
    "start_time": "2024-12-17T19:07:17.475Z"
   },
   {
    "duration": 1671,
    "start_time": "2024-12-17T19:07:19.053Z"
   },
   {
    "duration": 3599,
    "start_time": "2024-12-17T19:07:20.726Z"
   },
   {
    "duration": 0,
    "start_time": "2024-12-17T19:07:24.327Z"
   },
   {
    "duration": 0,
    "start_time": "2024-12-17T19:07:24.328Z"
   },
   {
    "duration": 0,
    "start_time": "2024-12-17T19:07:24.329Z"
   },
   {
    "duration": 0,
    "start_time": "2024-12-17T19:07:24.330Z"
   },
   {
    "duration": 0,
    "start_time": "2024-12-17T19:07:24.332Z"
   },
   {
    "duration": 0,
    "start_time": "2024-12-17T19:07:24.333Z"
   },
   {
    "duration": 1,
    "start_time": "2024-12-17T19:07:24.334Z"
   },
   {
    "duration": 0,
    "start_time": "2024-12-17T19:07:24.336Z"
   },
   {
    "duration": 1,
    "start_time": "2024-12-17T19:07:24.337Z"
   },
   {
    "duration": 0,
    "start_time": "2024-12-17T19:07:24.339Z"
   },
   {
    "duration": 0,
    "start_time": "2024-12-17T19:07:24.414Z"
   },
   {
    "duration": 0,
    "start_time": "2024-12-17T19:07:24.416Z"
   },
   {
    "duration": 0,
    "start_time": "2024-12-17T19:07:24.417Z"
   },
   {
    "duration": 0,
    "start_time": "2024-12-17T19:07:24.419Z"
   },
   {
    "duration": 0,
    "start_time": "2024-12-17T19:07:24.420Z"
   },
   {
    "duration": 0,
    "start_time": "2024-12-17T19:07:24.421Z"
   },
   {
    "duration": 0,
    "start_time": "2024-12-17T19:07:24.422Z"
   },
   {
    "duration": 1252,
    "start_time": "2024-12-17T19:08:01.469Z"
   },
   {
    "duration": 15517,
    "start_time": "2024-12-17T19:08:02.723Z"
   },
   {
    "duration": 8999,
    "start_time": "2024-12-17T19:08:18.242Z"
   },
   {
    "duration": 99,
    "start_time": "2024-12-17T19:08:27.244Z"
   },
   {
    "duration": 4779,
    "start_time": "2024-12-17T19:08:27.344Z"
   },
   {
    "duration": 206,
    "start_time": "2024-12-17T19:08:32.124Z"
   },
   {
    "duration": 4510,
    "start_time": "2024-12-17T19:08:32.331Z"
   },
   {
    "duration": 3,
    "start_time": "2024-12-17T19:08:36.844Z"
   },
   {
    "duration": 1606,
    "start_time": "2024-12-17T19:08:36.848Z"
   },
   {
    "duration": 1858,
    "start_time": "2024-12-17T19:08:38.457Z"
   },
   {
    "duration": 2324,
    "start_time": "2024-12-17T19:08:40.317Z"
   },
   {
    "duration": 1125,
    "start_time": "2024-12-17T19:08:42.643Z"
   },
   {
    "duration": 0,
    "start_time": "2024-12-17T19:08:43.770Z"
   },
   {
    "duration": 0,
    "start_time": "2024-12-17T19:08:43.771Z"
   },
   {
    "duration": 0,
    "start_time": "2024-12-17T19:08:43.772Z"
   },
   {
    "duration": 0,
    "start_time": "2024-12-17T19:08:43.773Z"
   },
   {
    "duration": 0,
    "start_time": "2024-12-17T19:08:43.774Z"
   },
   {
    "duration": 0,
    "start_time": "2024-12-17T19:08:43.775Z"
   },
   {
    "duration": 0,
    "start_time": "2024-12-17T19:08:43.815Z"
   },
   {
    "duration": 0,
    "start_time": "2024-12-17T19:08:43.816Z"
   },
   {
    "duration": 0,
    "start_time": "2024-12-17T19:08:43.817Z"
   },
   {
    "duration": 0,
    "start_time": "2024-12-17T19:08:43.820Z"
   },
   {
    "duration": 0,
    "start_time": "2024-12-17T19:08:43.821Z"
   },
   {
    "duration": 0,
    "start_time": "2024-12-17T19:08:43.822Z"
   },
   {
    "duration": 0,
    "start_time": "2024-12-17T19:08:43.823Z"
   },
   {
    "duration": 0,
    "start_time": "2024-12-17T19:08:43.824Z"
   },
   {
    "duration": 0,
    "start_time": "2024-12-17T19:08:43.825Z"
   },
   {
    "duration": 0,
    "start_time": "2024-12-17T19:08:43.826Z"
   },
   {
    "duration": 0,
    "start_time": "2024-12-17T19:08:43.827Z"
   },
   {
    "duration": 1268,
    "start_time": "2024-12-17T19:09:09.856Z"
   },
   {
    "duration": 15596,
    "start_time": "2024-12-17T19:09:11.126Z"
   },
   {
    "duration": 8619,
    "start_time": "2024-12-17T19:09:26.724Z"
   },
   {
    "duration": 100,
    "start_time": "2024-12-17T19:09:35.345Z"
   },
   {
    "duration": 4399,
    "start_time": "2024-12-17T19:09:35.448Z"
   },
   {
    "duration": 195,
    "start_time": "2024-12-17T19:09:39.849Z"
   },
   {
    "duration": 4626,
    "start_time": "2024-12-17T19:09:40.046Z"
   },
   {
    "duration": 3,
    "start_time": "2024-12-17T19:09:44.714Z"
   },
   {
    "duration": 1627,
    "start_time": "2024-12-17T19:09:44.719Z"
   },
   {
    "duration": 1677,
    "start_time": "2024-12-17T19:09:46.349Z"
   },
   {
    "duration": 2318,
    "start_time": "2024-12-17T19:09:48.028Z"
   },
   {
    "duration": 176,
    "start_time": "2024-12-17T19:09:50.347Z"
   },
   {
    "duration": 1326,
    "start_time": "2024-12-17T19:09:50.525Z"
   },
   {
    "duration": 1203,
    "start_time": "2024-12-17T19:09:51.916Z"
   },
   {
    "duration": 100,
    "start_time": "2024-12-17T19:09:53.121Z"
   },
   {
    "duration": 3135,
    "start_time": "2024-12-17T19:09:53.223Z"
   },
   {
    "duration": 76,
    "start_time": "2024-12-17T19:09:56.360Z"
   },
   {
    "duration": 8,
    "start_time": "2024-12-17T19:09:56.437Z"
   },
   {
    "duration": 2092,
    "start_time": "2024-12-17T19:09:56.446Z"
   },
   {
    "duration": 88,
    "start_time": "2024-12-17T19:09:58.540Z"
   },
   {
    "duration": 9,
    "start_time": "2024-12-17T19:09:58.630Z"
   },
   {
    "duration": 1030,
    "start_time": "2024-12-17T19:09:58.641Z"
   },
   {
    "duration": 0,
    "start_time": "2024-12-17T19:09:59.674Z"
   },
   {
    "duration": 0,
    "start_time": "2024-12-17T19:09:59.675Z"
   },
   {
    "duration": 0,
    "start_time": "2024-12-17T19:09:59.677Z"
   },
   {
    "duration": 0,
    "start_time": "2024-12-17T19:09:59.678Z"
   },
   {
    "duration": 0,
    "start_time": "2024-12-17T19:09:59.680Z"
   },
   {
    "duration": 0,
    "start_time": "2024-12-17T19:09:59.681Z"
   },
   {
    "duration": 1398,
    "start_time": "2024-12-17T20:37:07.011Z"
   },
   {
    "duration": 14778,
    "start_time": "2024-12-17T20:37:08.411Z"
   },
   {
    "duration": 7792,
    "start_time": "2024-12-17T20:37:23.191Z"
   },
   {
    "duration": 94,
    "start_time": "2024-12-17T20:37:30.985Z"
   },
   {
    "duration": 4198,
    "start_time": "2024-12-17T20:37:31.081Z"
   },
   {
    "duration": 192,
    "start_time": "2024-12-17T20:37:35.281Z"
   },
   {
    "duration": 4388,
    "start_time": "2024-12-17T20:37:35.475Z"
   },
   {
    "duration": 3,
    "start_time": "2024-12-17T20:37:39.864Z"
   },
   {
    "duration": 2025,
    "start_time": "2024-12-17T20:37:39.869Z"
   },
   {
    "duration": 1558,
    "start_time": "2024-12-17T20:37:41.896Z"
   },
   {
    "duration": 2219,
    "start_time": "2024-12-17T20:37:43.456Z"
   },
   {
    "duration": 110,
    "start_time": "2024-12-17T20:37:45.677Z"
   },
   {
    "duration": 1194,
    "start_time": "2024-12-17T20:37:45.789Z"
   },
   {
    "duration": 1098,
    "start_time": "2024-12-17T20:37:46.985Z"
   },
   {
    "duration": 83,
    "start_time": "2024-12-17T20:37:48.085Z"
   },
   {
    "duration": 2747,
    "start_time": "2024-12-17T20:37:48.170Z"
   },
   {
    "duration": 49,
    "start_time": "2024-12-17T20:37:50.919Z"
   },
   {
    "duration": 6,
    "start_time": "2024-12-17T20:37:50.970Z"
   },
   {
    "duration": 1678,
    "start_time": "2024-12-17T20:37:50.978Z"
   },
   {
    "duration": 19,
    "start_time": "2024-12-17T20:37:52.658Z"
   },
   {
    "duration": 8,
    "start_time": "2024-12-17T20:37:52.679Z"
   },
   {
    "duration": 1005,
    "start_time": "2024-12-17T20:37:52.689Z"
   },
   {
    "duration": 0,
    "start_time": "2024-12-17T20:37:53.696Z"
   },
   {
    "duration": 0,
    "start_time": "2024-12-17T20:37:53.698Z"
   },
   {
    "duration": 0,
    "start_time": "2024-12-17T20:37:53.699Z"
   },
   {
    "duration": 0,
    "start_time": "2024-12-17T20:37:53.700Z"
   },
   {
    "duration": 0,
    "start_time": "2024-12-17T20:37:53.701Z"
   },
   {
    "duration": 0,
    "start_time": "2024-12-17T20:37:53.702Z"
   },
   {
    "duration": 7,
    "start_time": "2024-12-17T21:18:31.798Z"
   },
   {
    "duration": 8,
    "start_time": "2024-12-17T21:18:39.391Z"
   },
   {
    "duration": 410,
    "start_time": "2024-12-17T21:18:40.416Z"
   },
   {
    "duration": 4,
    "start_time": "2024-12-17T21:19:29.943Z"
   },
   {
    "duration": 4,
    "start_time": "2024-12-17T21:19:33.039Z"
   },
   {
    "duration": 6,
    "start_time": "2024-12-17T21:35:51.187Z"
   },
   {
    "duration": 617,
    "start_time": "2024-12-17T21:35:53.077Z"
   },
   {
    "duration": 574,
    "start_time": "2024-12-17T21:36:10.829Z"
   },
   {
    "duration": 10,
    "start_time": "2024-12-17T21:36:58.060Z"
   },
   {
    "duration": 121,
    "start_time": "2024-12-17T21:37:05.576Z"
   },
   {
    "duration": 138,
    "start_time": "2024-12-17T21:37:17.556Z"
   },
   {
    "duration": 32,
    "start_time": "2024-12-17T21:37:23.888Z"
   },
   {
    "duration": 2402,
    "start_time": "2024-12-17T21:37:24.517Z"
   },
   {
    "duration": 3,
    "start_time": "2024-12-17T21:37:26.921Z"
   },
   {
    "duration": 830,
    "start_time": "2024-12-17T21:37:26.925Z"
   },
   {
    "duration": 711,
    "start_time": "2024-12-17T21:37:27.757Z"
   },
   {
    "duration": 1336,
    "start_time": "2024-12-17T21:37:28.470Z"
   },
   {
    "duration": 23,
    "start_time": "2024-12-17T21:37:29.853Z"
   },
   {
    "duration": 686,
    "start_time": "2024-12-17T21:37:30.803Z"
   },
   {
    "duration": 954,
    "start_time": "2024-12-17T21:37:31.553Z"
   },
   {
    "duration": 8,
    "start_time": "2024-12-17T21:37:33.212Z"
   },
   {
    "duration": 2361,
    "start_time": "2024-12-17T21:37:33.453Z"
   },
   {
    "duration": 50,
    "start_time": "2024-12-17T21:37:35.815Z"
   },
   {
    "duration": 7,
    "start_time": "2024-12-17T21:37:35.867Z"
   },
   {
    "duration": 1499,
    "start_time": "2024-12-17T21:37:35.877Z"
   },
   {
    "duration": 15,
    "start_time": "2024-12-17T21:37:37.378Z"
   },
   {
    "duration": 60,
    "start_time": "2024-12-17T21:37:37.394Z"
   },
   {
    "duration": 353,
    "start_time": "2024-12-17T21:37:39.737Z"
   },
   {
    "duration": 1454,
    "start_time": "2024-12-18T05:30:40.075Z"
   },
   {
    "duration": 15401,
    "start_time": "2024-12-18T05:30:41.531Z"
   },
   {
    "duration": 8005,
    "start_time": "2024-12-18T05:30:56.934Z"
   },
   {
    "duration": 98,
    "start_time": "2024-12-18T05:31:04.941Z"
   },
   {
    "duration": 4216,
    "start_time": "2024-12-18T05:31:05.041Z"
   },
   {
    "duration": 257,
    "start_time": "2024-12-18T05:31:09.258Z"
   },
   {
    "duration": 4239,
    "start_time": "2024-12-18T05:31:09.516Z"
   },
   {
    "duration": 3,
    "start_time": "2024-12-18T05:31:13.814Z"
   },
   {
    "duration": 1642,
    "start_time": "2024-12-18T05:31:13.819Z"
   },
   {
    "duration": 1851,
    "start_time": "2024-12-18T05:31:15.464Z"
   },
   {
    "duration": 2231,
    "start_time": "2024-12-18T05:31:17.317Z"
   },
   {
    "duration": 176,
    "start_time": "2024-12-18T05:31:19.550Z"
   },
   {
    "duration": 1496,
    "start_time": "2024-12-18T05:31:19.728Z"
   },
   {
    "duration": 1592,
    "start_time": "2024-12-18T05:31:21.226Z"
   },
   {
    "duration": 95,
    "start_time": "2024-12-18T05:31:22.820Z"
   },
   {
    "duration": 4243,
    "start_time": "2024-12-18T05:31:22.917Z"
   },
   {
    "duration": 70,
    "start_time": "2024-12-18T05:31:27.162Z"
   },
   {
    "duration": 16,
    "start_time": "2024-12-18T05:31:27.233Z"
   },
   {
    "duration": 2099,
    "start_time": "2024-12-18T05:31:27.251Z"
   },
   {
    "duration": 83,
    "start_time": "2024-12-18T05:31:29.351Z"
   },
   {
    "duration": 10,
    "start_time": "2024-12-18T05:31:29.435Z"
   },
   {
    "duration": 692,
    "start_time": "2024-12-18T05:31:29.447Z"
   },
   {
    "duration": 513,
    "start_time": "2024-12-18T05:31:30.141Z"
   },
   {
    "duration": 477,
    "start_time": "2024-12-18T05:31:30.656Z"
   },
   {
    "duration": 429,
    "start_time": "2024-12-18T05:31:31.135Z"
   },
   {
    "duration": 497,
    "start_time": "2024-12-18T05:31:31.566Z"
   },
   {
    "duration": 462,
    "start_time": "2024-12-18T05:31:32.065Z"
   },
   {
    "duration": 312,
    "start_time": "2024-12-18T05:31:32.530Z"
   },
   {
    "duration": 1342,
    "start_time": "2024-12-18T05:32:48.992Z"
   },
   {
    "duration": 15681,
    "start_time": "2024-12-18T05:32:50.336Z"
   },
   {
    "duration": 8596,
    "start_time": "2024-12-18T05:33:06.019Z"
   },
   {
    "duration": 34,
    "start_time": "2024-12-18T05:33:14.618Z"
   },
   {
    "duration": 4670,
    "start_time": "2024-12-18T05:33:14.654Z"
   },
   {
    "duration": 207,
    "start_time": "2024-12-18T05:33:19.326Z"
   },
   {
    "duration": 4788,
    "start_time": "2024-12-18T05:33:19.535Z"
   },
   {
    "duration": 4,
    "start_time": "2024-12-18T05:33:24.324Z"
   },
   {
    "duration": 1534,
    "start_time": "2024-12-18T05:33:24.330Z"
   },
   {
    "duration": 1626,
    "start_time": "2024-12-18T05:33:25.915Z"
   },
   {
    "duration": 2701,
    "start_time": "2024-12-18T05:33:27.543Z"
   },
   {
    "duration": 1292,
    "start_time": "2024-12-18T05:33:30.246Z"
   },
   {
    "duration": 197,
    "start_time": "2024-12-18T05:33:31.540Z"
   },
   {
    "duration": 1499,
    "start_time": "2024-12-18T05:33:31.739Z"
   },
   {
    "duration": 1374,
    "start_time": "2024-12-18T05:33:33.240Z"
   },
   {
    "duration": 107,
    "start_time": "2024-12-18T05:33:34.617Z"
   },
   {
    "duration": 4412,
    "start_time": "2024-12-18T05:33:34.726Z"
   },
   {
    "duration": 88,
    "start_time": "2024-12-18T05:33:39.140Z"
   },
   {
    "duration": 9,
    "start_time": "2024-12-18T05:33:39.230Z"
   },
   {
    "duration": 1982,
    "start_time": "2024-12-18T05:33:39.241Z"
   },
   {
    "duration": 26,
    "start_time": "2024-12-18T05:33:41.225Z"
   },
   {
    "duration": 11,
    "start_time": "2024-12-18T05:33:41.252Z"
   },
   {
    "duration": 662,
    "start_time": "2024-12-18T05:33:41.265Z"
   },
   {
    "duration": 589,
    "start_time": "2024-12-18T05:33:41.929Z"
   },
   {
    "duration": 710,
    "start_time": "2024-12-18T05:33:42.520Z"
   },
   {
    "duration": 494,
    "start_time": "2024-12-18T05:33:43.232Z"
   },
   {
    "duration": 418,
    "start_time": "2024-12-18T05:33:43.727Z"
   },
   {
    "duration": 392,
    "start_time": "2024-12-18T05:33:44.148Z"
   },
   {
    "duration": 778,
    "start_time": "2024-12-18T05:33:44.541Z"
   }
  ],
  "colab": {
   "name": "PySparkSprint.ipynb",
   "provenance": []
  },
  "kernelspec": {
   "display_name": "Python 3 (ipykernel)",
   "language": "python",
   "name": "python3"
  },
  "language_info": {
   "codemirror_mode": {
    "name": "ipython",
    "version": 3
   },
   "file_extension": ".py",
   "mimetype": "text/x-python",
   "name": "python",
   "nbconvert_exporter": "python",
   "pygments_lexer": "ipython3",
   "version": "3.11.5"
  },
  "toc": {
   "base_numbering": 1,
   "nav_menu": {},
   "number_sections": true,
   "sideBar": true,
   "skip_h1_title": true,
   "title_cell": "Table of Contents",
   "title_sidebar": "Contents",
   "toc_cell": false,
   "toc_position": {},
   "toc_section_display": true,
   "toc_window_display": false
  }
 },
 "nbformat": 4,
 "nbformat_minor": 5
}
